{
 "nbformat": 4,
 "nbformat_minor": 0,
 "metadata": {
  "colab": {
   "provenance": []
  },
  "kernelspec": {
   "name": "python3",
   "display_name": "Python 3"
  },
  "language_info": {
   "name": "python"
  }
 },
 "cells": [
  {
   "cell_type": "markdown",
   "source": [
    "Import necesarry libraries"
   ],
   "metadata": {
    "id": "8CL8drQBrE-2"
   }
  },
  {
   "cell_type": "code",
   "source": "",
   "metadata": {
    "id": "v8j-JT9BrbDs"
   },
   "outputs": [],
   "execution_count": null
  },
  {
   "cell_type": "markdown",
   "source": [
    "Import the dataset\n",
    "Assign it to a variable called \"chipo\""
   ],
   "metadata": {
    "id": "cW57BP4xrbxS"
   }
  },
  {
   "cell_type": "code",
   "source": "",
   "metadata": {
    "id": "qwJqmEIc0f56"
   },
   "outputs": [],
   "execution_count": null
  },
  {
   "cell_type": "markdown",
   "source": [
    "See the first 10 entries"
   ],
   "metadata": {
    "id": "TiNNsCgY0hrF"
   }
  },
  {
   "cell_type": "code",
   "source": "",
   "metadata": {
    "id": "ghrWkFMR3FZe",
    "colab": {
     "base_uri": "https://localhost:8080/",
     "height": 363
    },
    "outputId": "9ed04278-7869-4188-9060-7062a89a8232"
   },
   "outputs": [],
   "execution_count": null
  },
  {
   "cell_type": "markdown",
   "source": [
    "See the last 10 entries"
   ],
   "metadata": {
    "id": "7ag0Ma1Y3F0Y"
   }
  },
  {
   "cell_type": "code",
   "source": [],
   "metadata": {
    "id": "E4ELy6c632AU"
   },
   "outputs": [],
   "execution_count": null
  },
  {
   "cell_type": "markdown",
   "source": [
    "What is the number of rows and collumns in the dataset? Two methods\n"
   ],
   "metadata": {
    "id": "NVEpTVhC32UP"
   }
  },
  {
   "cell_type": "code",
   "source": [],
   "metadata": {
    "id": "adUSGAei59QA"
   },
   "outputs": [],
   "execution_count": null
  },
  {
   "cell_type": "markdown",
   "source": [
    "Print the name of all the columns."
   ],
   "metadata": {
    "id": "VbTBMW545yo0"
   }
  },
  {
   "cell_type": "code",
   "source": [],
   "metadata": {
    "id": "ckxMcl5c8_y5"
   },
   "outputs": [],
   "execution_count": null
  },
  {
   "cell_type": "markdown",
   "source": [
    "How many orders were made in the period"
   ],
   "metadata": {
    "id": "StMjyjtiSCc8"
   }
  },
  {
   "cell_type": "code",
   "source": [],
   "metadata": {
    "id": "-Dh7foYxSDVW"
   },
   "outputs": [],
   "execution_count": null
  },
  {
   "cell_type": "markdown",
   "source": [
    "How many items were orderd in total"
   ],
   "metadata": {
    "id": "EPGkHUvpRiL_"
   }
  },
  {
   "cell_type": "code",
   "source": [],
   "metadata": {
    "id": "0wblz-GuRjAi"
   },
   "outputs": [],
   "execution_count": null
  },
  {
   "cell_type": "markdown",
   "source": [
    "List the 5 most-ordered items"
   ],
   "metadata": {
    "id": "JpKsWgIC9AHs"
   }
  },
  {
   "cell_type": "code",
   "source": "",
   "metadata": {
    "id": "3E_yInn19Yyl",
    "colab": {
     "base_uri": "https://localhost:8080/"
    },
    "outputId": "84c4b313-8c49-482b-815d-6987197c51f9"
   },
   "outputs": [],
   "execution_count": null
  },
  {
   "cell_type": "markdown",
   "source": [
    "List the 3 most ordered item in the choice_description column"
   ],
   "metadata": {
    "id": "NSguUXIG9ZVU"
   }
  },
  {
   "cell_type": "code",
   "source": "",
   "metadata": {
    "id": "-xjtCsyxRXHt",
    "colab": {
     "base_uri": "https://localhost:8080/"
    },
    "outputId": "2a945164-8110-47bd-9d38-11387163fdc2"
   },
   "outputs": [],
   "execution_count": null
  },
  {
   "cell_type": "markdown",
   "source": [
    "List the top 5 items by the revenue"
   ],
   "metadata": {
    "id": "T12us1ywUAnn"
   }
  },
  {
   "cell_type": "code",
   "source": "",
   "metadata": {
    "id": "ODbHaWq9T-Li",
    "colab": {
     "base_uri": "https://localhost:8080/"
    },
    "outputId": "3c578745-98cc-494d-a306-d09aab598db4"
   },
   "outputs": [],
   "execution_count": null
  },
  {
   "cell_type": "markdown",
   "source": [
    "How much was the revenue for the period in the dataset"
   ],
   "metadata": {
    "id": "fxJxmRRgRXjV"
   }
  },
  {
   "cell_type": "code",
   "source": "",
   "metadata": {
    "id": "aP6iuFrhR18Y",
    "colab": {
     "base_uri": "https://localhost:8080/"
    },
    "outputId": "2d8c2124-30c4-44fb-e517-2068c463b574"
   },
   "outputs": [],
   "execution_count": null
  },
  {
   "cell_type": "markdown",
   "source": [
    "What is the average revenue amount per order"
   ],
   "metadata": {
    "id": "Lcmhkp0yR2K2"
   }
  },
  {
   "cell_type": "code",
   "source": "",
   "metadata": {
    "id": "aXFlFdo7SSfY",
    "colab": {
     "base_uri": "https://localhost:8080/"
    },
    "outputId": "d6a80ca1-cf6e-48f0-c9db-8032d51006f7"
   },
   "outputs": [],
   "execution_count": null
  },
  {
   "cell_type": "markdown",
   "source": [
    "How many different items are sold"
   ],
   "metadata": {
    "id": "lZjR2H4ZSSy5"
   }
  },
  {
   "cell_type": "code",
   "source": "",
   "metadata": {
    "id": "JxE8e_I7SWRY",
    "colab": {
     "base_uri": "https://localhost:8080/"
    },
    "outputId": "fa6ff4e5-db6e-4398-a320-6b46ece679cb"
   },
   "outputs": [],
   "execution_count": null
  },
  {
   "cell_type": "markdown",
   "source": [
    "Select the first 3 columns"
   ],
   "metadata": {
    "id": "0xg6R-PQSshu"
   }
  },
  {
   "cell_type": "code",
   "source": "",
   "metadata": {
    "id": "hahCPz7_S5D-",
    "colab": {
     "base_uri": "https://localhost:8080/",
     "height": 424
    },
    "outputId": "4ee67e96-549a-4874-d4d5-b5612bba1a96"
   },
   "outputs": [],
   "execution_count": null
  },
  {
   "cell_type": "markdown",
   "source": [
    "Select all columns except the last 3."
   ],
   "metadata": {
    "id": "oh6Zb5bPS5eA"
   }
  },
  {
   "cell_type": "code",
   "source": "",
   "metadata": {
    "id": "NdV02-csS_Xz",
    "colab": {
     "base_uri": "https://localhost:8080/",
     "height": 424
    },
    "outputId": "e39d8498-c838-45bb-88f8-83927832f88a"
   },
   "outputs": [],
   "execution_count": null
  },
  {
   "cell_type": "markdown",
   "source": [
    "Select the orders which item_price is bigger than 10 dolalrs and lesser then 15 dollars\n",
    "\n"
   ],
   "metadata": {
    "id": "HiXQ9pFdTBge"
   }
  },
  {
   "cell_type": "code",
   "source": "",
   "metadata": {
    "id": "HzBTEQ1LTXNW",
    "colab": {
     "base_uri": "https://localhost:8080/",
     "height": 424
    },
    "outputId": "f967d054-94e2-40d8-8ae2-a2c142467f6d"
   },
   "outputs": [],
   "execution_count": null
  }
 ]
}
