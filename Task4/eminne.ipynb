{
 "nbformat": 4,
 "nbformat_minor": 0,
 "metadata": {
  "colab": {
   "provenance": []
  },
  "kernelspec": {
   "name": "python3",
   "display_name": "Python 3 (ipykernel)",
   "language": "python"
  },
  "language_info": {
   "name": "python"
  }
 },
 "cells": [
  {
   "cell_type": "markdown",
   "source": [
    "Import necesarry libraries"
   ],
   "metadata": {
    "id": "8CL8drQBrE-2"
   }
  },
  {
   "cell_type": "code",
   "source": "import pandas as pd",
   "metadata": {
    "id": "v8j-JT9BrbDs",
    "ExecuteTime": {
     "end_time": "2024-10-07T12:48:02.429482Z",
     "start_time": "2024-10-07T12:48:02.422118Z"
    }
   },
   "outputs": [],
   "execution_count": 39
  },
  {
   "cell_type": "markdown",
   "source": [
    "Import the dataset\n",
    "Assign it to a variable called \"chipo\""
   ],
   "metadata": {
    "id": "cW57BP4xrbxS"
   }
  },
  {
   "cell_type": "code",
   "source": "chipo = pd.read_csv('chipotle_dataset.csv')",
   "metadata": {
    "id": "qwJqmEIc0f56",
    "ExecuteTime": {
     "end_time": "2024-10-07T12:12:03.440244Z",
     "start_time": "2024-10-07T12:12:03.426057Z"
    }
   },
   "outputs": [],
   "execution_count": 16
  },
  {
   "cell_type": "markdown",
   "source": [
    "See the first 10 entries"
   ],
   "metadata": {
    "id": "TiNNsCgY0hrF"
   }
  },
  {
   "cell_type": "code",
   "source": "print(chipo.head(10))",
   "metadata": {
    "id": "ghrWkFMR3FZe",
    "colab": {
     "base_uri": "https://localhost:8080/",
     "height": 363
    },
    "outputId": "9ed04278-7869-4188-9060-7062a89a8232",
    "ExecuteTime": {
     "end_time": "2024-10-07T11:50:58.394791Z",
     "start_time": "2024-10-07T11:50:58.391072Z"
    }
   },
   "outputs": [],
   "execution_count": null
  },
  {
   "cell_type": "markdown",
   "source": [
    "See the last 10 entries"
   ],
   "metadata": {
    "id": "7ag0Ma1Y3F0Y"
   }
  },
  {
   "metadata": {
    "ExecuteTime": {
     "end_time": "2024-10-07T12:46:19.855422Z",
     "start_time": "2024-10-07T12:46:19.849357Z"
    }
   },
   "cell_type": "code",
   "source": "print(chipo.tail(10))",
   "outputs": [
    {
     "name": "stdout",
     "output_type": "stream",
     "text": [
      "      order_id  quantity            item_name  \\\n",
      "4612      1831         1        Carnitas Bowl   \n",
      "4613      1831         1                Chips   \n",
      "4614      1831         1        Bottled Water   \n",
      "4615      1832         1   Chicken Soft Tacos   \n",
      "4616      1832         1  Chips and Guacamole   \n",
      "4617      1833         1        Steak Burrito   \n",
      "4618      1833         1        Steak Burrito   \n",
      "4619      1834         1   Chicken Salad Bowl   \n",
      "4620      1834         1   Chicken Salad Bowl   \n",
      "4621      1834         1   Chicken Salad Bowl   \n",
      "\n",
      "                                     choice_description item_price  \n",
      "4612  [Fresh Tomato Salsa, [Fajita Vegetables, Rice,...     $9.25   \n",
      "4613                                                NaN     $2.15   \n",
      "4614                                                NaN     $1.50   \n",
      "4615   [Fresh Tomato Salsa, [Rice, Cheese, Sour Cream]]     $8.75   \n",
      "4616                                                NaN     $4.45   \n",
      "4617  [Fresh Tomato Salsa, [Rice, Black Beans, Sour ...    $11.75   \n",
      "4618  [Fresh Tomato Salsa, [Rice, Sour Cream, Cheese...    $11.75   \n",
      "4619  [Fresh Tomato Salsa, [Fajita Vegetables, Pinto...    $11.25   \n",
      "4620  [Fresh Tomato Salsa, [Fajita Vegetables, Lettu...     $8.75   \n",
      "4621  [Fresh Tomato Salsa, [Fajita Vegetables, Pinto...     $8.75   \n"
     ]
    }
   ],
   "execution_count": 38
  },
  {
   "cell_type": "markdown",
   "source": [
    "What is the number of rows and collumns in the dataset? Two methods\n"
   ],
   "metadata": {
    "id": "NVEpTVhC32UP"
   }
  },
  {
   "metadata": {
    "id": "E4ELy6c632AU",
    "ExecuteTime": {
     "end_time": "2024-10-07T12:50:51.900932Z",
     "start_time": "2024-10-07T12:50:51.895123Z"
    }
   },
   "cell_type": "code",
   "source": [
    "print(chipo.shape)  \n",
    "print(f\"Rows: {len(chipo)}, Columns: {len(chipo.columns)}\")"
   ],
   "outputs": [
    {
     "name": "stdout",
     "output_type": "stream",
     "text": [
      "(4622, 5)\n"
     ]
    }
   ],
   "execution_count": 40
  },
  {
   "cell_type": "markdown",
   "source": [
    "Print the name of all the columns."
   ],
   "metadata": {
    "id": "VbTBMW545yo0"
   }
  },
  {
   "cell_type": "code",
   "source": "print(chipo.columns)",
   "metadata": {
    "id": "ckxMcl5c8_y5",
    "ExecuteTime": {
     "end_time": "2024-10-07T12:55:34.630310Z",
     "start_time": "2024-10-07T12:55:34.624021Z"
    }
   },
   "outputs": [
    {
     "name": "stdout",
     "output_type": "stream",
     "text": [
      "Index(['order_id', 'quantity', 'item_name', 'choice_description',\n",
      "       'item_price'],\n",
      "      dtype='object')\n"
     ]
    }
   ],
   "execution_count": 45
  },
  {
   "cell_type": "markdown",
   "source": [
    "How many orders were made in the period"
   ],
   "metadata": {
    "id": "StMjyjtiSCc8"
   }
  },
  {
   "cell_type": "code",
   "source": "num_orders = chipo['order_id'].nunique()",
   "metadata": {
    "id": "-Dh7foYxSDVW",
    "ExecuteTime": {
     "end_time": "2024-10-07T12:56:13.298421Z",
     "start_time": "2024-10-07T12:56:13.293137Z"
    }
   },
   "outputs": [],
   "execution_count": 46
  },
  {
   "cell_type": "markdown",
   "source": [
    "How many items were orderd in total"
   ],
   "metadata": {
    "id": "EPGkHUvpRiL_"
   }
  },
  {
   "cell_type": "code",
   "source": "total_items_ordered = chipo['quantity'].sum()",
   "metadata": {
    "id": "0wblz-GuRjAi",
    "ExecuteTime": {
     "end_time": "2024-10-07T12:51:02.552355Z",
     "start_time": "2024-10-07T12:51:02.523177Z"
    }
   },
   "outputs": [
    {
     "name": "stdout",
     "output_type": "stream",
     "text": [
      "item_name\n",
      "Chicken Bowl           761\n",
      "Chicken Burrito        591\n",
      "Chips and Guacamole    506\n",
      "Steak Burrito          386\n",
      "Canned Soft Drink      351\n",
      "Name: quantity, dtype: int64\n"
     ]
    }
   ],
   "execution_count": 43
  },
  {
   "cell_type": "markdown",
   "source": [
    "List the 5 most-ordered items"
   ],
   "metadata": {
    "id": "JpKsWgIC9AHs"
   }
  },
  {
   "cell_type": "code",
   "source": [
    "top_5_items = chipo.groupby('item_name').sum()['quantity'].sort_values(ascending=False).head(5)\n",
    "print(top_5_items)"
   ],
   "metadata": {
    "id": "3E_yInn19Yyl",
    "colab": {
     "base_uri": "https://localhost:8080/"
    },
    "outputId": "84c4b313-8c49-482b-815d-6987197c51f9",
    "ExecuteTime": {
     "end_time": "2024-10-07T12:51:04.964721Z",
     "start_time": "2024-10-07T12:51:04.957946Z"
    }
   },
   "outputs": [
    {
     "name": "stdout",
     "output_type": "stream",
     "text": [
      "choice_description\n",
      "[Diet Coke]    134\n",
      "[Coke]         123\n",
      "[Sprite]        77\n",
      "Name: count, dtype: int64\n"
     ]
    }
   ],
   "execution_count": 44
  },
  {
   "cell_type": "markdown",
   "source": [
    "List the 3 most ordered item in the choice_description column"
   ],
   "metadata": {
    "id": "NSguUXIG9ZVU"
   }
  },
  {
   "cell_type": "code",
   "source": [
    "top_3_choice_desc = chipo['choice_description'].value_counts().head(3)\n",
    "print(top_3_choice_desc)"
   ],
   "metadata": {
    "id": "-xjtCsyxRXHt",
    "colab": {
     "base_uri": "https://localhost:8080/"
    },
    "outputId": "2a945164-8110-47bd-9d38-11387163fdc2"
   },
   "outputs": [],
   "execution_count": null
  },
  {
   "cell_type": "markdown",
   "source": [
    "List the top 5 items by the revenue"
   ],
   "metadata": {
    "id": "T12us1ywUAnn"
   }
  },
  {
   "cell_type": "code",
   "source": [
    "chipo['revenue']= chipo['quantity']*chipo['item_name']\n",
    "top_5_revenue_items = chipo.groupby('item_name')['revenue'].sum().sort_values(ascending=False).head(5)\n",
    "top_5_revenue_items"
   ],
   "metadata": {
    "id": "ODbHaWq9T-Li",
    "colab": {
     "base_uri": "https://localhost:8080/"
    },
    "outputId": "3c578745-98cc-494d-a306-d09aab598db4",
    "ExecuteTime": {
     "end_time": "2024-10-07T13:23:20.438654Z",
     "start_time": "2024-10-07T13:23:20.410635Z"
    }
   },
   "outputs": [
    {
     "data": {
      "text/plain": [
       "item_name\n",
       "Veggie Soft Tacos      Veggie Soft TacosVeggie Soft TacosVeggie Soft ...\n",
       "Veggie Salad           Veggie SaladVeggie SaladVeggie SaladVeggie Sal...\n",
       "Veggie Salad Bowl      Veggie Salad BowlVeggie Salad BowlVeggie Salad...\n",
       "Veggie Crispy Tacos                                  Veggie Crispy Tacos\n",
       "Veggie Burrito         Veggie BurritoVeggie BurritoVeggie BurritoVegg...\n",
       "Name: revenue, dtype: object"
      ]
     },
     "execution_count": 56,
     "metadata": {},
     "output_type": "execute_result"
    }
   ],
   "execution_count": 56
  },
  {
   "metadata": {
    "ExecuteTime": {
     "end_time": "2024-10-07T13:23:23.761807Z",
     "start_time": "2024-10-07T13:23:23.759850Z"
    }
   },
   "cell_type": "code",
   "source": "",
   "outputs": [],
   "execution_count": null
  },
  {
   "metadata": {
    "ExecuteTime": {
     "end_time": "2024-10-07T13:23:24.249661Z",
     "start_time": "2024-10-07T13:23:24.246864Z"
    }
   },
   "cell_type": "code",
   "source": "",
   "outputs": [],
   "execution_count": null
  },
  {
   "cell_type": "markdown",
   "source": [
    "How much was the revenue for the period in the dataset"
   ],
   "metadata": {
    "id": "fxJxmRRgRXjV"
   }
  },
  {
   "cell_type": "code",
   "source": "total_revenue = (chipo['quantity'] * chipo['item_price']).sum()",
   "metadata": {
    "id": "aP6iuFrhR18Y",
    "colab": {
     "base_uri": "https://localhost:8080/"
    },
    "outputId": "2d8c2124-30c4-44fb-e517-2068c463b574",
    "ExecuteTime": {
     "end_time": "2024-10-07T13:23:25.320248Z",
     "start_time": "2024-10-07T13:23:25.317195Z"
    }
   },
   "outputs": [],
   "execution_count": 57
  },
  {
   "cell_type": "markdown",
   "source": [
    "What is the average revenue amount per order"
   ],
   "metadata": {
    "id": "Lcmhkp0yR2K2"
   }
  },
  {
   "cell_type": "code",
   "source": "avg_revenue_per_order = total_revenue / num_orders",
   "metadata": {
    "id": "aXFlFdo7SSfY",
    "colab": {
     "base_uri": "https://localhost:8080/"
    },
    "outputId": "d6a80ca1-cf6e-48f0-c9db-8032d51006f7",
    "ExecuteTime": {
     "end_time": "2024-10-07T13:23:26.180075Z",
     "start_time": "2024-10-07T13:23:26.177734Z"
    }
   },
   "outputs": [],
   "execution_count": 58
  },
  {
   "cell_type": "markdown",
   "source": [
    "How many different items are sold"
   ],
   "metadata": {
    "id": "lZjR2H4ZSSy5"
   }
  },
  {
   "cell_type": "code",
   "source": "num_different_items = chipo['item_name'].nunique()",
   "metadata": {
    "id": "JxE8e_I7SWRY",
    "colab": {
     "base_uri": "https://localhost:8080/"
    },
    "outputId": "fa6ff4e5-db6e-4398-a320-6b46ece679cb",
    "ExecuteTime": {
     "end_time": "2024-10-07T13:23:27.417164Z",
     "start_time": "2024-10-07T13:23:27.411244Z"
    }
   },
   "outputs": [],
   "execution_count": 59
  },
  {
   "cell_type": "markdown",
   "source": [
    "Select the first 3 columns"
   ],
   "metadata": {
    "id": "0xg6R-PQSshu"
   }
  },
  {
   "cell_type": "code",
   "source": [
    "first_3_columns = chipo.iloc[:, :3]\n",
    "print(first_3_columns.head())"
   ],
   "metadata": {
    "id": "hahCPz7_S5D-",
    "colab": {
     "base_uri": "https://localhost:8080/",
     "height": 424
    },
    "outputId": "4ee67e96-549a-4874-d4d5-b5612bba1a96",
    "ExecuteTime": {
     "end_time": "2024-10-07T13:23:28.350757Z",
     "start_time": "2024-10-07T13:23:28.346316Z"
    }
   },
   "outputs": [
    {
     "name": "stdout",
     "output_type": "stream",
     "text": [
      "   order_id  quantity                              item_name\n",
      "0         1         1           Chips and Fresh Tomato Salsa\n",
      "1         1         1                                   Izze\n",
      "2         1         1                       Nantucket Nectar\n",
      "3         1         1  Chips and Tomatillo-Green Chili Salsa\n",
      "4         2         2                           Chicken Bowl\n"
     ]
    }
   ],
   "execution_count": 60
  },
  {
   "cell_type": "markdown",
   "source": [
    "Select all columns except the last 3."
   ],
   "metadata": {
    "id": "oh6Zb5bPS5eA"
   }
  },
  {
   "cell_type": "code",
   "source": [
    "all_but_last_3_columns = chipo.iloc[:, :-3]\n",
    "print(all_but_last_3_columns.head())"
   ],
   "metadata": {
    "id": "NdV02-csS_Xz",
    "colab": {
     "base_uri": "https://localhost:8080/",
     "height": 424
    },
    "outputId": "e39d8498-c838-45bb-88f8-83927832f88a",
    "ExecuteTime": {
     "end_time": "2024-10-07T13:23:29.333537Z",
     "start_time": "2024-10-07T13:23:29.328521Z"
    }
   },
   "outputs": [
    {
     "name": "stdout",
     "output_type": "stream",
     "text": [
      "   order_id  quantity                              item_name\n",
      "0         1         1           Chips and Fresh Tomato Salsa\n",
      "1         1         1                                   Izze\n",
      "2         1         1                       Nantucket Nectar\n",
      "3         1         1  Chips and Tomatillo-Green Chili Salsa\n",
      "4         2         2                           Chicken Bowl\n"
     ]
    }
   ],
   "execution_count": 61
  },
  {
   "cell_type": "markdown",
   "source": [
    "Select the orders which item_price is bigger than 10 dolalrs and lesser then 15 dollars\n",
    "\n"
   ],
   "metadata": {
    "id": "HiXQ9pFdTBge"
   }
  },
  {
   "cell_type": "code",
   "source": [
    "filtered_orders = chipo[(chipo['item_price'] > 10) & (chipo['item_price'] < 15)]\n",
    "print(filtered_orders.head())"
   ],
   "metadata": {
    "id": "HzBTEQ1LTXNW",
    "colab": {
     "base_uri": "https://localhost:8080/",
     "height": 424
    },
    "outputId": "f967d054-94e2-40d8-8ae2-a2c142467f6d",
    "ExecuteTime": {
     "end_time": "2024-10-07T13:10:02.347152Z",
     "start_time": "2024-10-07T13:10:02.310918Z"
    }
   },
   "outputs": [
    {
     "ename": "TypeError",
     "evalue": "'>' not supported between instances of 'str' and 'int'",
     "output_type": "error",
     "traceback": [
      "\u001B[0;31m---------------------------------------------------------------------------\u001B[0m",
      "\u001B[0;31mTypeError\u001B[0m                                 Traceback (most recent call last)",
      "Cell \u001B[0;32mIn[54], line 1\u001B[0m\n\u001B[0;32m----> 1\u001B[0m filtered_orders \u001B[38;5;241m=\u001B[39m chipo[(\u001B[43mchipo\u001B[49m\u001B[43m[\u001B[49m\u001B[38;5;124;43m'\u001B[39;49m\u001B[38;5;124;43mitem_price\u001B[39;49m\u001B[38;5;124;43m'\u001B[39;49m\u001B[43m]\u001B[49m\u001B[43m \u001B[49m\u001B[38;5;241;43m>\u001B[39;49m\u001B[43m \u001B[49m\u001B[38;5;241;43m10\u001B[39;49m) \u001B[38;5;241m&\u001B[39m (chipo[\u001B[38;5;124m'\u001B[39m\u001B[38;5;124mitem_price\u001B[39m\u001B[38;5;124m'\u001B[39m] \u001B[38;5;241m<\u001B[39m \u001B[38;5;241m15\u001B[39m)]\n\u001B[1;32m      2\u001B[0m \u001B[38;5;28mprint\u001B[39m(filtered_orders\u001B[38;5;241m.\u001B[39mhead())\n",
      "File \u001B[0;32m~/PycharmProjects/pythonProject1/.venv/lib/python3.12/site-packages/pandas/core/ops/common.py:76\u001B[0m, in \u001B[0;36m_unpack_zerodim_and_defer.<locals>.new_method\u001B[0;34m(self, other)\u001B[0m\n\u001B[1;32m     72\u001B[0m             \u001B[38;5;28;01mreturn\u001B[39;00m \u001B[38;5;28mNotImplemented\u001B[39m\n\u001B[1;32m     74\u001B[0m other \u001B[38;5;241m=\u001B[39m item_from_zerodim(other)\n\u001B[0;32m---> 76\u001B[0m \u001B[38;5;28;01mreturn\u001B[39;00m \u001B[43mmethod\u001B[49m\u001B[43m(\u001B[49m\u001B[38;5;28;43mself\u001B[39;49m\u001B[43m,\u001B[49m\u001B[43m \u001B[49m\u001B[43mother\u001B[49m\u001B[43m)\u001B[49m\n",
      "File \u001B[0;32m~/PycharmProjects/pythonProject1/.venv/lib/python3.12/site-packages/pandas/core/arraylike.py:56\u001B[0m, in \u001B[0;36mOpsMixin.__gt__\u001B[0;34m(self, other)\u001B[0m\n\u001B[1;32m     54\u001B[0m \u001B[38;5;129m@unpack_zerodim_and_defer\u001B[39m(\u001B[38;5;124m\"\u001B[39m\u001B[38;5;124m__gt__\u001B[39m\u001B[38;5;124m\"\u001B[39m)\n\u001B[1;32m     55\u001B[0m \u001B[38;5;28;01mdef\u001B[39;00m \u001B[38;5;21m__gt__\u001B[39m(\u001B[38;5;28mself\u001B[39m, other):\n\u001B[0;32m---> 56\u001B[0m     \u001B[38;5;28;01mreturn\u001B[39;00m \u001B[38;5;28;43mself\u001B[39;49m\u001B[38;5;241;43m.\u001B[39;49m\u001B[43m_cmp_method\u001B[49m\u001B[43m(\u001B[49m\u001B[43mother\u001B[49m\u001B[43m,\u001B[49m\u001B[43m \u001B[49m\u001B[43moperator\u001B[49m\u001B[38;5;241;43m.\u001B[39;49m\u001B[43mgt\u001B[49m\u001B[43m)\u001B[49m\n",
      "File \u001B[0;32m~/PycharmProjects/pythonProject1/.venv/lib/python3.12/site-packages/pandas/core/series.py:6119\u001B[0m, in \u001B[0;36mSeries._cmp_method\u001B[0;34m(self, other, op)\u001B[0m\n\u001B[1;32m   6116\u001B[0m lvalues \u001B[38;5;241m=\u001B[39m \u001B[38;5;28mself\u001B[39m\u001B[38;5;241m.\u001B[39m_values\n\u001B[1;32m   6117\u001B[0m rvalues \u001B[38;5;241m=\u001B[39m extract_array(other, extract_numpy\u001B[38;5;241m=\u001B[39m\u001B[38;5;28;01mTrue\u001B[39;00m, extract_range\u001B[38;5;241m=\u001B[39m\u001B[38;5;28;01mTrue\u001B[39;00m)\n\u001B[0;32m-> 6119\u001B[0m res_values \u001B[38;5;241m=\u001B[39m \u001B[43mops\u001B[49m\u001B[38;5;241;43m.\u001B[39;49m\u001B[43mcomparison_op\u001B[49m\u001B[43m(\u001B[49m\u001B[43mlvalues\u001B[49m\u001B[43m,\u001B[49m\u001B[43m \u001B[49m\u001B[43mrvalues\u001B[49m\u001B[43m,\u001B[49m\u001B[43m \u001B[49m\u001B[43mop\u001B[49m\u001B[43m)\u001B[49m\n\u001B[1;32m   6121\u001B[0m \u001B[38;5;28;01mreturn\u001B[39;00m \u001B[38;5;28mself\u001B[39m\u001B[38;5;241m.\u001B[39m_construct_result(res_values, name\u001B[38;5;241m=\u001B[39mres_name)\n",
      "File \u001B[0;32m~/PycharmProjects/pythonProject1/.venv/lib/python3.12/site-packages/pandas/core/ops/array_ops.py:344\u001B[0m, in \u001B[0;36mcomparison_op\u001B[0;34m(left, right, op)\u001B[0m\n\u001B[1;32m    341\u001B[0m     \u001B[38;5;28;01mreturn\u001B[39;00m invalid_comparison(lvalues, rvalues, op)\n\u001B[1;32m    343\u001B[0m \u001B[38;5;28;01melif\u001B[39;00m lvalues\u001B[38;5;241m.\u001B[39mdtype \u001B[38;5;241m==\u001B[39m \u001B[38;5;28mobject\u001B[39m \u001B[38;5;129;01mor\u001B[39;00m \u001B[38;5;28misinstance\u001B[39m(rvalues, \u001B[38;5;28mstr\u001B[39m):\n\u001B[0;32m--> 344\u001B[0m     res_values \u001B[38;5;241m=\u001B[39m \u001B[43mcomp_method_OBJECT_ARRAY\u001B[49m\u001B[43m(\u001B[49m\u001B[43mop\u001B[49m\u001B[43m,\u001B[49m\u001B[43m \u001B[49m\u001B[43mlvalues\u001B[49m\u001B[43m,\u001B[49m\u001B[43m \u001B[49m\u001B[43mrvalues\u001B[49m\u001B[43m)\u001B[49m\n\u001B[1;32m    346\u001B[0m \u001B[38;5;28;01melse\u001B[39;00m:\n\u001B[1;32m    347\u001B[0m     res_values \u001B[38;5;241m=\u001B[39m _na_arithmetic_op(lvalues, rvalues, op, is_cmp\u001B[38;5;241m=\u001B[39m\u001B[38;5;28;01mTrue\u001B[39;00m)\n",
      "File \u001B[0;32m~/PycharmProjects/pythonProject1/.venv/lib/python3.12/site-packages/pandas/core/ops/array_ops.py:129\u001B[0m, in \u001B[0;36mcomp_method_OBJECT_ARRAY\u001B[0;34m(op, x, y)\u001B[0m\n\u001B[1;32m    127\u001B[0m     result \u001B[38;5;241m=\u001B[39m libops\u001B[38;5;241m.\u001B[39mvec_compare(x\u001B[38;5;241m.\u001B[39mravel(), y\u001B[38;5;241m.\u001B[39mravel(), op)\n\u001B[1;32m    128\u001B[0m \u001B[38;5;28;01melse\u001B[39;00m:\n\u001B[0;32m--> 129\u001B[0m     result \u001B[38;5;241m=\u001B[39m \u001B[43mlibops\u001B[49m\u001B[38;5;241;43m.\u001B[39;49m\u001B[43mscalar_compare\u001B[49m\u001B[43m(\u001B[49m\u001B[43mx\u001B[49m\u001B[38;5;241;43m.\u001B[39;49m\u001B[43mravel\u001B[49m\u001B[43m(\u001B[49m\u001B[43m)\u001B[49m\u001B[43m,\u001B[49m\u001B[43m \u001B[49m\u001B[43my\u001B[49m\u001B[43m,\u001B[49m\u001B[43m \u001B[49m\u001B[43mop\u001B[49m\u001B[43m)\u001B[49m\n\u001B[1;32m    130\u001B[0m \u001B[38;5;28;01mreturn\u001B[39;00m result\u001B[38;5;241m.\u001B[39mreshape(x\u001B[38;5;241m.\u001B[39mshape)\n",
      "File \u001B[0;32mops.pyx:107\u001B[0m, in \u001B[0;36mpandas._libs.ops.scalar_compare\u001B[0;34m()\u001B[0m\n",
      "\u001B[0;31mTypeError\u001B[0m: '>' not supported between instances of 'str' and 'int'"
     ]
    }
   ],
   "execution_count": 54
  },
  {
   "metadata": {
    "ExecuteTime": {
     "end_time": "2024-10-07T13:10:02.963794Z",
     "start_time": "2024-10-07T13:10:02.960710Z"
    }
   },
   "cell_type": "code",
   "source": "",
   "outputs": [],
   "execution_count": null
  },
  {
   "metadata": {},
   "cell_type": "code",
   "outputs": [],
   "execution_count": null,
   "source": ""
  }
 ]
}
