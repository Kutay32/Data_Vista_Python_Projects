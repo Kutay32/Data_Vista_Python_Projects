{
 "nbformat": 4,
 "nbformat_minor": 0,
 "metadata": {
  "colab": {
   "provenance": []
  },
  "kernelspec": {
   "name": "python3",
   "display_name": "Python 3 (ipykernel)",
   "language": "python"
  },
  "language_info": {
   "name": "python"
  }
 },
 "cells": [
  {
   "cell_type": "markdown",
   "source": [
    "Import necesarry libraries"
   ],
   "metadata": {
    "id": "8CL8drQBrE-2"
   }
  },
  {
   "cell_type": "code",
   "source": "import pandas as pd",
   "metadata": {
    "id": "v8j-JT9BrbDs",
    "ExecuteTime": {
     "end_time": "2024-10-07T12:16:17.815302Z",
     "start_time": "2024-10-07T12:16:17.812486Z"
    }
   },
   "outputs": [],
   "execution_count": 11
  },
  {
   "cell_type": "markdown",
   "source": [
    "Import the dataset\n",
    "Assign it to a variable called \"chipo\""
   ],
   "metadata": {
    "id": "cW57BP4xrbxS"
   }
  },
  {
   "cell_type": "code",
   "source": [
    "%cd Downloads\n",
    "chipo = pd.read_csv('chipotle_dataset.csv') "
   ],
   "metadata": {
    "id": "qwJqmEIc0f56",
    "ExecuteTime": {
     "end_time": "2024-10-07T12:16:40.264464Z",
     "start_time": "2024-10-07T12:16:40.252896Z"
    }
   },
   "outputs": [
    {
     "name": "stdout",
     "output_type": "stream",
     "text": [
      "[Errno 2] No such file or directory: 'Downloads'\n",
      "/Users/helinberk/Downloads/c/helinberk.ipynb\n"
     ]
    }
   ],
   "execution_count": 14
  },
  {
   "cell_type": "markdown",
   "source": [
    "See the first 10 entries"
   ],
   "metadata": {
    "id": "TiNNsCgY0hrF"
   }
  },
  {
   "cell_type": "code",
   "source": "print(chipo.head(10))",
   "metadata": {
    "id": "ghrWkFMR3FZe",
    "colab": {
     "base_uri": "https://localhost:8080/",
     "height": 363
    },
    "outputId": "9ed04278-7869-4188-9060-7062a89a8232",
    "ExecuteTime": {
     "end_time": "2024-10-07T12:18:24.267709Z",
     "start_time": "2024-10-07T12:18:24.263601Z"
    }
   },
   "outputs": [
    {
     "name": "stdout",
     "output_type": "stream",
     "text": [
      "   order_id  quantity                              item_name  \\\n",
      "0         1         1           Chips and Fresh Tomato Salsa   \n",
      "1         1         1                                   Izze   \n",
      "2         1         1                       Nantucket Nectar   \n",
      "3         1         1  Chips and Tomatillo-Green Chili Salsa   \n",
      "4         2         2                           Chicken Bowl   \n",
      "5         3         1                           Chicken Bowl   \n",
      "6         3         1                          Side of Chips   \n",
      "7         4         1                          Steak Burrito   \n",
      "8         4         1                       Steak Soft Tacos   \n",
      "9         5         1                          Steak Burrito   \n",
      "\n",
      "                                  choice_description item_price  \n",
      "0                                                NaN     $2.39   \n",
      "1                                       [Clementine]     $3.39   \n",
      "2                                            [Apple]     $3.39   \n",
      "3                                                NaN     $2.39   \n",
      "4  [Tomatillo-Red Chili Salsa (Hot), [Black Beans...    $16.98   \n",
      "5  [Fresh Tomato Salsa (Mild), [Rice, Cheese, Sou...    $10.98   \n",
      "6                                                NaN     $1.69   \n",
      "7  [Tomatillo Red Chili Salsa, [Fajita Vegetables...    $11.75   \n",
      "8  [Tomatillo Green Chili Salsa, [Pinto Beans, Ch...     $9.25   \n",
      "9  [Fresh Tomato Salsa, [Rice, Black Beans, Pinto...     $9.25   \n"
     ]
    }
   ],
   "execution_count": 15
  },
  {
   "cell_type": "markdown",
   "source": [
    "See the last 10 entries"
   ],
   "metadata": {
    "id": "7ag0Ma1Y3F0Y"
   }
  },
  {
   "cell_type": "code",
   "source": "print(chipo.tail(10))",
   "metadata": {
    "id": "E4ELy6c632AU",
    "ExecuteTime": {
     "end_time": "2024-10-07T12:18:54.015585Z",
     "start_time": "2024-10-07T12:18:54.010366Z"
    }
   },
   "outputs": [
    {
     "name": "stdout",
     "output_type": "stream",
     "text": [
      "      order_id  quantity            item_name  \\\n",
      "4612      1831         1        Carnitas Bowl   \n",
      "4613      1831         1                Chips   \n",
      "4614      1831         1        Bottled Water   \n",
      "4615      1832         1   Chicken Soft Tacos   \n",
      "4616      1832         1  Chips and Guacamole   \n",
      "4617      1833         1        Steak Burrito   \n",
      "4618      1833         1        Steak Burrito   \n",
      "4619      1834         1   Chicken Salad Bowl   \n",
      "4620      1834         1   Chicken Salad Bowl   \n",
      "4621      1834         1   Chicken Salad Bowl   \n",
      "\n",
      "                                     choice_description item_price  \n",
      "4612  [Fresh Tomato Salsa, [Fajita Vegetables, Rice,...     $9.25   \n",
      "4613                                                NaN     $2.15   \n",
      "4614                                                NaN     $1.50   \n",
      "4615   [Fresh Tomato Salsa, [Rice, Cheese, Sour Cream]]     $8.75   \n",
      "4616                                                NaN     $4.45   \n",
      "4617  [Fresh Tomato Salsa, [Rice, Black Beans, Sour ...    $11.75   \n",
      "4618  [Fresh Tomato Salsa, [Rice, Sour Cream, Cheese...    $11.75   \n",
      "4619  [Fresh Tomato Salsa, [Fajita Vegetables, Pinto...    $11.25   \n",
      "4620  [Fresh Tomato Salsa, [Fajita Vegetables, Lettu...     $8.75   \n",
      "4621  [Fresh Tomato Salsa, [Fajita Vegetables, Pinto...     $8.75   \n"
     ]
    }
   ],
   "execution_count": 16
  },
  {
   "cell_type": "markdown",
   "source": [
    "What is the number of rows and collumns in the dataset? Two methods\n"
   ],
   "metadata": {
    "id": "NVEpTVhC32UP"
   }
  },
  {
   "cell_type": "code",
   "source": [
    "print(len(chipo), \n",
    "len(chipo.columns))"
   ],
   "metadata": {
    "id": "adUSGAei59QA",
    "ExecuteTime": {
     "end_time": "2024-10-07T12:21:54.067651Z",
     "start_time": "2024-10-07T12:21:54.065475Z"
    }
   },
   "outputs": [
    {
     "name": "stdout",
     "output_type": "stream",
     "text": [
      "4622 5\n"
     ]
    }
   ],
   "execution_count": 18
  },
  {
   "cell_type": "markdown",
   "source": [
    "Print the name of all the columns."
   ],
   "metadata": {
    "id": "VbTBMW545yo0"
   }
  },
  {
   "cell_type": "code",
   "source": "print(chipo.columns)",
   "metadata": {
    "id": "ckxMcl5c8_y5",
    "ExecuteTime": {
     "end_time": "2024-10-07T12:25:22.059252Z",
     "start_time": "2024-10-07T12:25:22.056573Z"
    }
   },
   "outputs": [
    {
     "name": "stdout",
     "output_type": "stream",
     "text": [
      "Index(['order_id', 'quantity', 'item_name', 'choice_description',\n",
      "       'item_price'],\n",
      "      dtype='object')\n"
     ]
    }
   ],
   "execution_count": 21
  },
  {
   "cell_type": "markdown",
   "source": [
    "How many orders were made in the period"
   ],
   "metadata": {
    "id": "StMjyjtiSCc8"
   }
  },
  {
   "metadata": {},
   "cell_type": "markdown",
   "source": ""
  },
  {
   "cell_type": "code",
   "source": "print(chipo['order_id'].nunique())",
   "metadata": {
    "id": "-Dh7foYxSDVW",
    "ExecuteTime": {
     "end_time": "2024-10-07T12:26:08.425993Z",
     "start_time": "2024-10-07T12:26:08.422701Z"
    }
   },
   "outputs": [
    {
     "name": "stdout",
     "output_type": "stream",
     "text": [
      "1834\n"
     ]
    }
   ],
   "execution_count": 23
  },
  {
   "cell_type": "markdown",
   "source": [
    "How many items were orderd in total"
   ],
   "metadata": {
    "id": "EPGkHUvpRiL_"
   }
  },
  {
   "cell_type": "code",
   "source": "print(chipo['quantity'].sum())",
   "metadata": {
    "id": "0wblz-GuRjAi",
    "ExecuteTime": {
     "end_time": "2024-10-07T12:27:37.901623Z",
     "start_time": "2024-10-07T12:27:37.898126Z"
    }
   },
   "outputs": [
    {
     "name": "stdout",
     "output_type": "stream",
     "text": [
      "4972\n"
     ]
    }
   ],
   "execution_count": 24
  },
  {
   "cell_type": "markdown",
   "source": [
    "List the 5 most-ordered items"
   ],
   "metadata": {
    "id": "JpKsWgIC9AHs"
   }
  },
  {
   "cell_type": "code",
   "source": [
    "most_ordered_items = chipo.groupby('item_name')['quantity'].sum().sort_values(ascending=False).head(5)\n",
    "print(most_ordered_items)"
   ],
   "metadata": {
    "id": "3E_yInn19Yyl",
    "colab": {
     "base_uri": "https://localhost:8080/"
    },
    "outputId": "84c4b313-8c49-482b-815d-6987197c51f9",
    "ExecuteTime": {
     "end_time": "2024-10-07T12:28:41.699754Z",
     "start_time": "2024-10-07T12:28:41.695102Z"
    }
   },
   "outputs": [
    {
     "name": "stdout",
     "output_type": "stream",
     "text": [
      "item_name\n",
      "Chicken Bowl           761\n",
      "Chicken Burrito        591\n",
      "Chips and Guacamole    506\n",
      "Steak Burrito          386\n",
      "Canned Soft Drink      351\n",
      "Name: quantity, dtype: int64\n"
     ]
    }
   ],
   "execution_count": 28
  },
  {
   "cell_type": "markdown",
   "source": [
    "List the 3 most ordered item in the choice_description column"
   ],
   "metadata": {
    "id": "NSguUXIG9ZVU"
   }
  },
  {
   "cell_type": "code",
   "source": [
    "most_ordered_choice_desc = chipo.groupby('choice_description')['quantity'].sum().sort_values(ascending=False).head(3)\n",
    "print(most_ordered_choice_desc)"
   ],
   "metadata": {
    "id": "-xjtCsyxRXHt",
    "colab": {
     "base_uri": "https://localhost:8080/"
    },
    "outputId": "2a945164-8110-47bd-9d38-11387163fdc2"
   },
   "outputs": [],
   "execution_count": null
  },
  {
   "cell_type": "markdown",
   "source": [
    "List the top 5 items by the revenue"
   ],
   "metadata": {
    "id": "T12us1ywUAnn"
   }
  },
  {
   "cell_type": "code",
   "source": [
    "print(chipo['item_price'].dtype)\n",
    "print(chipo['quantity'].dtype)\n",
    "\n",
    "chipo['revenue'] = chipo['quantity'] * chipo['item_price']\n",
    "\n",
    "top_5_revenue = chipo.groupby('item_name')['revenue'].sum().nlargest(5)\n",
    "top_5_revenue"
   ],
   "metadata": {
    "id": "ODbHaWq9T-Li",
    "colab": {
     "base_uri": "https://localhost:8080/"
    },
    "outputId": "3c578745-98cc-494d-a306-d09aab598db4",
    "ExecuteTime": {
     "end_time": "2024-10-07T13:22:15.731568Z",
     "start_time": "2024-10-07T13:22:15.723512Z"
    }
   },
   "outputs": [
    {
     "name": "stdout",
     "output_type": "stream",
     "text": [
      "float64\n",
      "int64\n"
     ]
    },
    {
     "data": {
      "text/plain": [
       "item_name\n",
       "Chicken Bowl           8044.63\n",
       "Chicken Burrito        6387.06\n",
       "Steak Burrito          4236.13\n",
       "Steak Bowl             2479.81\n",
       "Chips and Guacamole    2475.62\n",
       "Name: revenue, dtype: float64"
      ]
     },
     "execution_count": 54,
     "metadata": {},
     "output_type": "execute_result"
    }
   ],
   "execution_count": 54
  },
  {
   "cell_type": "markdown",
   "source": [
    "How much was the revenue for the period in the dataset"
   ],
   "metadata": {
    "id": "fxJxmRRgRXjV"
   }
  },
  {
   "cell_type": "code",
   "source": [
    "total_revenue = (chipo['quantity'] * chipo['item_price']).sum()\n",
    "print(total_revenue)"
   ],
   "metadata": {
    "id": "aP6iuFrhR18Y",
    "colab": {
     "base_uri": "https://localhost:8080/"
    },
    "outputId": "2d8c2124-30c4-44fb-e517-2068c463b574",
    "ExecuteTime": {
     "end_time": "2024-10-07T12:59:55.269054Z",
     "start_time": "2024-10-07T12:59:55.265298Z"
    }
   },
   "outputs": [
    {
     "name": "stdout",
     "output_type": "stream",
     "text": [
      "39237.02\n"
     ]
    }
   ],
   "execution_count": 45
  },
  {
   "cell_type": "markdown",
   "source": [
    "What is the average revenue amount per order"
   ],
   "metadata": {
    "id": "Lcmhkp0yR2K2"
   }
  },
  {
   "cell_type": "code",
   "source": [
    "avg_revenue_per_order = total_revenue / chipo['order_id'].nunique()\n",
    "print(avg_revenue_per_order)"
   ],
   "metadata": {
    "id": "aXFlFdo7SSfY",
    "colab": {
     "base_uri": "https://localhost:8080/"
    },
    "outputId": "d6a80ca1-cf6e-48f0-c9db-8032d51006f7",
    "ExecuteTime": {
     "end_time": "2024-10-07T12:38:18.022652Z",
     "start_time": "2024-10-07T12:38:18.019079Z"
    }
   },
   "outputs": [
    {
     "name": "stdout",
     "output_type": "stream",
     "text": [
      "21.39423118865867\n"
     ]
    }
   ],
   "execution_count": 33
  },
  {
   "cell_type": "markdown",
   "source": [
    "How many different items are sold"
   ],
   "metadata": {
    "id": "lZjR2H4ZSSy5"
   }
  },
  {
   "cell_type": "code",
   "source": "print(chipo['item_name'].nunique())",
   "metadata": {
    "id": "JxE8e_I7SWRY",
    "colab": {
     "base_uri": "https://localhost:8080/"
    },
    "outputId": "fa6ff4e5-db6e-4398-a320-6b46ece679cb"
   },
   "outputs": [],
   "execution_count": null
  },
  {
   "cell_type": "markdown",
   "source": [
    "Select the first 3 columns"
   ],
   "metadata": {
    "id": "0xg6R-PQSshu"
   }
  },
  {
   "cell_type": "code",
   "source": "print(chipo.iloc[:, :3])",
   "metadata": {
    "id": "hahCPz7_S5D-",
    "colab": {
     "base_uri": "https://localhost:8080/",
     "height": 424
    },
    "outputId": "4ee67e96-549a-4874-d4d5-b5612bba1a96"
   },
   "outputs": [],
   "execution_count": null
  },
  {
   "cell_type": "markdown",
   "source": [
    "Select all columns except the last 3."
   ],
   "metadata": {
    "id": "oh6Zb5bPS5eA"
   }
  },
  {
   "cell_type": "code",
   "source": "print(chipo.iloc[:, :-3])",
   "metadata": {
    "id": "NdV02-csS_Xz",
    "colab": {
     "base_uri": "https://localhost:8080/",
     "height": 424
    },
    "outputId": "e39d8498-c838-45bb-88f8-83927832f88a",
    "ExecuteTime": {
     "end_time": "2024-10-07T13:00:30.349003Z",
     "start_time": "2024-10-07T13:00:30.345891Z"
    }
   },
   "outputs": [
    {
     "name": "stdout",
     "output_type": "stream",
     "text": [
      "      order_id  quantity\n",
      "0            1         1\n",
      "1            1         1\n",
      "2            1         1\n",
      "3            1         1\n",
      "4            2         2\n",
      "...        ...       ...\n",
      "4617      1833         1\n",
      "4618      1833         1\n",
      "4619      1834         1\n",
      "4620      1834         1\n",
      "4621      1834         1\n",
      "\n",
      "[4622 rows x 2 columns]\n"
     ]
    }
   ],
   "execution_count": 46
  },
  {
   "cell_type": "markdown",
   "source": [
    "Select the orders which item_price is bigger than 10 dolalrs and lesser then 15 dollars\n",
    "\n"
   ],
   "metadata": {
    "id": "HiXQ9pFdTBge"
   }
  },
  {
   "cell_type": "code",
   "source": [
    "filtered_orders = chipo[(chipo['item_price'] > 10) & (chipo['item_price'] < 15)]\n",
    "print(filtered_orders)"
   ],
   "metadata": {
    "id": "HzBTEQ1LTXNW",
    "colab": {
     "base_uri": "https://localhost:8080/",
     "height": 424
    },
    "outputId": "f967d054-94e2-40d8-8ae2-a2c142467f6d",
    "ExecuteTime": {
     "end_time": "2024-10-07T12:40:28.659181Z",
     "start_time": "2024-10-07T12:40:28.653371Z"
    }
   },
   "outputs": [
    {
     "name": "stdout",
     "output_type": "stream",
     "text": [
      "      order_id  quantity           item_name  \\\n",
      "5            3         1        Chicken Bowl   \n",
      "7            4         1       Steak Burrito   \n",
      "13           7         1        Chicken Bowl   \n",
      "23          12         1     Chicken Burrito   \n",
      "39          19         1       Barbacoa Bowl   \n",
      "...        ...       ...                 ...   \n",
      "4610      1830         1       Steak Burrito   \n",
      "4611      1830         1      Veggie Burrito   \n",
      "4617      1833         1       Steak Burrito   \n",
      "4618      1833         1       Steak Burrito   \n",
      "4619      1834         1  Chicken Salad Bowl   \n",
      "\n",
      "                                     choice_description  item_price  \n",
      "5     [Fresh Tomato Salsa (Mild), [Rice, Cheese, Sou...       10.98  \n",
      "7     [Tomatillo Red Chili Salsa, [Fajita Vegetables...       11.75  \n",
      "13    [Fresh Tomato Salsa, [Fajita Vegetables, Rice,...       11.25  \n",
      "23    [[Tomatillo-Green Chili Salsa (Medium), Tomati...       10.98  \n",
      "39    [Roasted Chili Corn Salsa, [Fajita Vegetables,...       11.75  \n",
      "...                                                 ...         ...  \n",
      "4610  [Fresh Tomato Salsa, [Rice, Sour Cream, Cheese...       11.75  \n",
      "4611  [Tomatillo Green Chili Salsa, [Rice, Fajita Ve...       11.25  \n",
      "4617  [Fresh Tomato Salsa, [Rice, Black Beans, Sour ...       11.75  \n",
      "4618  [Fresh Tomato Salsa, [Rice, Sour Cream, Cheese...       11.75  \n",
      "4619  [Fresh Tomato Salsa, [Fajita Vegetables, Pinto...       11.25  \n",
      "\n",
      "[1002 rows x 5 columns]\n"
     ]
    }
   ],
   "execution_count": 38
  }
 ]
}
