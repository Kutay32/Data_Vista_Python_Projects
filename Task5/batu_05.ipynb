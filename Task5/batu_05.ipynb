{
  "nbformat": 4,
  "nbformat_minor": 0,
  "metadata": {
    "colab": {
      "provenance": []
    },
    "kernelspec": {
      "name": "python3",
      "display_name": "Python 3"
    },
    "language_info": {
      "name": "python"
    }
  },
  "cells": [
    {
      "cell_type": "markdown",
      "source": [
        "Import Numpy and check the version"
      ],
      "metadata": {
        "id": "XGBvkTKPSKeK"
      }
    },
    {
      "cell_type": "code",
      "execution_count": 2,
      "metadata": {
        "colab": {
          "base_uri": "https://localhost:8080/",
          "height": 36
        },
        "id": "BA9TUohQQ0Cp",
        "outputId": "dc0ec9c7-f684-4a7f-cb8e-119f84c3f262"
      },
      "outputs": [
        {
          "output_type": "execute_result",
          "data": {
            "text/plain": [
              "'1.26.4'"
            ],
            "application/vnd.google.colaboratory.intrinsic+json": {
              "type": "string"
            }
          },
          "metadata": {},
          "execution_count": 2
        }
      ],
      "source": [
        "import numpy as np\n",
        "np.__version__"
      ]
    },
    {
      "cell_type": "markdown",
      "source": [
        "Create a Python list than convert convert it to a Numpy array and check its type"
      ],
      "metadata": {
        "id": "z_aw0RBCSNeQ"
      }
    },
    {
      "cell_type": "code",
      "source": [
        "my_list = [1, 2, 3, 4, 5]\n",
        "my_array = np.array(my_list)\n",
        "print(type(my_array))"
      ],
      "metadata": {
        "colab": {
          "base_uri": "https://localhost:8080/"
        },
        "id": "6plhAgBaRRSD",
        "outputId": "7f88b8a1-e30f-45eb-95c7-1c39da7d560d"
      },
      "execution_count": 4,
      "outputs": [
        {
          "output_type": "stream",
          "name": "stdout",
          "text": [
            "<class 'numpy.ndarray'>\n"
          ]
        }
      ]
    },
    {
      "cell_type": "markdown",
      "source": [
        "Create a 1D array of 10 zeros and 10 ones"
      ],
      "metadata": {
        "id": "SwnrfUevSPSk"
      }
    },
    {
      "cell_type": "code",
      "source": [
        "zeros_array = np.zeros(10)\n",
        "print(zeros_array)\n",
        "ones_array = np.ones(10)\n",
        "print(ones_array)"
      ],
      "metadata": {
        "colab": {
          "base_uri": "https://localhost:8080/"
        },
        "id": "GQC9wWAmRssb",
        "outputId": "5cf4c4ae-4191-480d-8483-b739c4db2b69"
      },
      "execution_count": 6,
      "outputs": [
        {
          "output_type": "stream",
          "name": "stdout",
          "text": [
            "[0. 0. 0. 0. 0. 0. 0. 0. 0. 0.]\n",
            "[1. 1. 1. 1. 1. 1. 1. 1. 1. 1.]\n"
          ]
        }
      ]
    },
    {
      "cell_type": "markdown",
      "source": [
        "Create a 3x3 identity matrix"
      ],
      "metadata": {
        "id": "Z1VIx5HUSRcf"
      }
    },
    {
      "cell_type": "code",
      "source": [
        "identity_matrix = np.eye(3)\n",
        "print(identity_matrix)"
      ],
      "metadata": {
        "colab": {
          "base_uri": "https://localhost:8080/"
        },
        "id": "EhW4BlI0SEdo",
        "outputId": "d2563714-1264-49b6-a509-68c6a809ee08"
      },
      "execution_count": 7,
      "outputs": [
        {
          "output_type": "stream",
          "name": "stdout",
          "text": [
            "[[1. 0. 0.]\n",
            " [0. 1. 0.]\n",
            " [0. 0. 1.]]\n"
          ]
        }
      ]
    },
    {
      "cell_type": "markdown",
      "source": [
        "Create an array of numbers from 10 to 50 and reverse it"
      ],
      "metadata": {
        "id": "8Jx1-WyESkmf"
      }
    },
    {
      "cell_type": "code",
      "source": [
        "array = np.arange(10, 51)\n",
        "reversed_array = array[::-1]\n",
        "print(reversed_array)"
      ],
      "metadata": {
        "colab": {
          "base_uri": "https://localhost:8080/"
        },
        "id": "__V9BltNSh6D",
        "outputId": "7c21e418-9453-4420-996c-bd17db0711f3"
      },
      "execution_count": 8,
      "outputs": [
        {
          "output_type": "stream",
          "name": "stdout",
          "text": [
            "[50 49 48 47 46 45 44 43 42 41 40 39 38 37 36 35 34 33 32 31 30 29 28 27\n",
            " 26 25 24 23 22 21 20 19 18 17 16 15 14 13 12 11 10]\n"
          ]
        }
      ]
    },
    {
      "cell_type": "markdown",
      "source": [
        "Create a 4x4 matrix with values ranging from 0 to 15"
      ],
      "metadata": {
        "id": "RuoZxu3DSy2x"
      }
    },
    {
      "cell_type": "code",
      "source": [
        "matrix_4x4 = np.arange(16).reshape(4, 4)\n",
        "print(matrix_4x4)"
      ],
      "metadata": {
        "colab": {
          "base_uri": "https://localhost:8080/"
        },
        "id": "osEc4RSSSv1b",
        "outputId": "5c890d54-e8a5-4add-d47b-0b7f892159ce"
      },
      "execution_count": 14,
      "outputs": [
        {
          "output_type": "stream",
          "name": "stdout",
          "text": [
            "[[ 0  1  2  3]\n",
            " [ 4  5  6  7]\n",
            " [ 8  9 10 11]\n",
            " [12 13 14 15]]\n"
          ]
        }
      ]
    },
    {
      "cell_type": "markdown",
      "source": [
        "Find the indices of non-zero elements in the array"
      ],
      "metadata": {
        "id": "_pV93ms0Toq2"
      }
    },
    {
      "cell_type": "code",
      "source": [
        "array = np.array([0,1,6,0,9,3,5,0])\n",
        "non_zero_indices = np.nonzero(array)\n",
        "print(non_zero_indices[0])"
      ],
      "metadata": {
        "colab": {
          "base_uri": "https://localhost:8080/"
        },
        "id": "u11HZZEdTBDz",
        "outputId": "ac65d09e-2d08-426e-cd5c-d7ab00fd0f08"
      },
      "execution_count": 11,
      "outputs": [
        {
          "output_type": "stream",
          "name": "stdout",
          "text": [
            "[1 2 4 5 6]\n"
          ]
        }
      ]
    },
    {
      "cell_type": "markdown",
      "source": [
        "Create a 5x5 matrix with 1 on the border and 0 inside"
      ],
      "metadata": {
        "id": "Uu-P5V3vT2B2"
      }
    },
    {
      "cell_type": "code",
      "source": [
        "matrix_5x5 = np.ones((5, 5))\n",
        "matrix_5x5[1:-1, 1:-1] = 0\n",
        "print(matrix_5x5)"
      ],
      "metadata": {
        "colab": {
          "base_uri": "https://localhost:8080/"
        },
        "id": "m-BjRignTihp",
        "outputId": "7c97e568-09d6-4711-dcb0-3eed21b818c4"
      },
      "execution_count": 15,
      "outputs": [
        {
          "output_type": "stream",
          "name": "stdout",
          "text": [
            "[[1. 1. 1. 1. 1.]\n",
            " [1. 0. 0. 0. 1.]\n",
            " [1. 0. 0. 0. 1.]\n",
            " [1. 0. 0. 0. 1.]\n",
            " [1. 1. 1. 1. 1.]]\n"
          ]
        }
      ]
    },
    {
      "cell_type": "markdown",
      "source": [
        "Create a 3x3 matrix with random values between 0 to 10 and find the minimum and maximum values"
      ],
      "metadata": {
        "id": "TbjcC7YNUPrh"
      }
    },
    {
      "cell_type": "code",
      "source": [
        "matrix_3x3_random = np.random.randint(0, 11, size=(3, 3))\n",
        "print(matrix_3x3_random)\n",
        "min_value = np.min(matrix_3x3_random)\n",
        "max_value = np.max(matrix_3x3_random)\n",
        "print(\"Minimum value:\", min_value)\n",
        "print(\"Maximum value:\", max_value)"
      ],
      "metadata": {
        "colab": {
          "base_uri": "https://localhost:8080/"
        },
        "id": "ICPgOx5_T8uj",
        "outputId": "49891c6d-d8ca-4752-9eab-338cdc42bf37"
      },
      "execution_count": 19,
      "outputs": [
        {
          "output_type": "stream",
          "name": "stdout",
          "text": [
            "[[7 2 8]\n",
            " [9 4 8]\n",
            " [2 9 6]]\n",
            "Minimum value: 2\n",
            "Maximum value: 9\n"
          ]
        }
      ]
    },
    {
      "cell_type": "markdown",
      "source": [
        "Normalize the random matrix from the exercise 9 between 0 and 1"
      ],
      "metadata": {
        "id": "s1epZROOUpPo"
      }
    },
    {
      "cell_type": "code",
      "source": [
        "matrix_normalized = (matrix_3x3_random - min_value) / (max_value - min_value)\n",
        "print(matrix_normalized)"
      ],
      "metadata": {
        "colab": {
          "base_uri": "https://localhost:8080/"
        },
        "id": "n4GqwtaTUfJK",
        "outputId": "211301c2-7927-483c-e940-4f7a33a78336"
      },
      "execution_count": 22,
      "outputs": [
        {
          "output_type": "stream",
          "name": "stdout",
          "text": [
            "[[0.71428571 0.         0.85714286]\n",
            " [1.         0.28571429 0.85714286]\n",
            " [0.         1.         0.57142857]]\n"
          ]
        }
      ]
    },
    {
      "cell_type": "markdown",
      "source": [
        "Multiply a 5x3 matrix by a 3x2 matrix (matrix product)"
      ],
      "metadata": {
        "id": "_JjEVvEZVnY6"
      }
    },
    {
      "cell_type": "code",
      "source": [
        "matrix_5x3 = np.random.randint(1, 11, size=(5,3))\n",
        "matrix_3x2 = np.random.randint(1, 11, size=(3,2))\n",
        "product_matrix = np.dot(matrix_5x3, matrix_3x2)\n",
        "print(\"5x3 Matrix:\\n\", matrix_5x3)\n",
        "print(\"3x2 Matrix:\\n\", matrix_3x2)\n",
        "print(\"Product Matrix:\\n\", product_matrix)\n"
      ],
      "metadata": {
        "colab": {
          "base_uri": "https://localhost:8080/"
        },
        "id": "Mq6yuhiZVFHr",
        "outputId": "8f24fa82-4e16-4051-a79c-278e0cb3bc64"
      },
      "execution_count": 43,
      "outputs": [
        {
          "output_type": "stream",
          "name": "stdout",
          "text": [
            "5x3 Matrix:\n",
            " [[ 2  9  7]\n",
            " [10  1  7]\n",
            " [ 6  7  1]\n",
            " [ 6 10  3]\n",
            " [ 3  6  3]]\n",
            "3x2 Matrix:\n",
            " [[10  2]\n",
            " [ 3  7]\n",
            " [ 6  2]]\n",
            "Product Matrix:\n",
            " [[ 89  81]\n",
            " [145  41]\n",
            " [ 87  63]\n",
            " [108  88]\n",
            " [ 66  54]]\n"
          ]
        }
      ]
    },
    {
      "cell_type": "markdown",
      "source": [
        "Extract the integer part of a random array"
      ],
      "metadata": {
        "id": "aOZkfnkQXZiB"
      }
    },
    {
      "cell_type": "code",
      "source": [
        "random_array = np.random.uniform(0, 10, size=5)\n",
        "print(\"Random Array:\", random_array)\n",
        "integer_part = np.floor(random_array)\n",
        "print(\"Integer Part:\", integer_part)"
      ],
      "metadata": {
        "colab": {
          "base_uri": "https://localhost:8080/"
        },
        "id": "St0B8jCLWG9s",
        "outputId": "e5257f74-ce17-4675-ef3d-f84e9d4ebab4"
      },
      "execution_count": 52,
      "outputs": [
        {
          "output_type": "stream",
          "name": "stdout",
          "text": [
            "Random Array: [0.05509184 8.19291817 6.70673384 1.00226308 9.21371714]\n",
            "Integer Part: [0. 8. 6. 1. 9.]\n"
          ]
        }
      ]
    },
    {
      "cell_type": "markdown",
      "source": [
        "Check if two arrays are equal"
      ],
      "metadata": {
        "id": "_wx0ldOHZR-G"
      }
    },
    {
      "cell_type": "code",
      "source": [
        "input1 = input(\"Enter the first array (Comma seperated): \")\n",
        "array1 = np.array([float(x) for x in input1.split(',')])\n",
        "\n",
        "input2 = input(\"Enter the second array (Comma seperated): \")\n",
        "array2 = np.array([float(x) for x in input2.split(',')])\n",
        "\n",
        "equal = np.array_equal(array1, array2)\n",
        "\n",
        "if equal:\n",
        "    print(\"Equal\")\n",
        "else:\n",
        "    print(\"Not Equal.\")"
      ],
      "metadata": {
        "colab": {
          "base_uri": "https://localhost:8080/"
        },
        "id": "6NM0tnbnYaEF",
        "outputId": "68cfc54b-e371-4d45-af31-989480024b88"
      },
      "execution_count": 65,
      "outputs": [
        {
          "output_type": "stream",
          "name": "stdout",
          "text": [
            "Enter the first array (Comma seperated): 0.1, 1,2\n",
            "Enter the second array (Comma seperated): 0.1, 1, 2\n",
            "Equal\n"
          ]
        }
      ]
    },
    {
      "cell_type": "markdown",
      "source": [
        "Find the unique elements of an array"
      ],
      "metadata": {
        "id": "bWss0NURa6Ay"
      }
    },
    {
      "cell_type": "code",
      "source": [
        "sample_array = np.array([0, 1, 1, 2, 2, 3, 4, 4, 4, 5])\n",
        "uniqe_elements = np.unique(sample_array)\n",
        "print(uniqe_elements)"
      ],
      "metadata": {
        "colab": {
          "base_uri": "https://localhost:8080/"
        },
        "id": "tXmYfvWMZUP-",
        "outputId": "09a6c201-af29-4d0c-e19f-50fb8771633d"
      },
      "execution_count": 66,
      "outputs": [
        {
          "output_type": "stream",
          "name": "stdout",
          "text": [
            "[0 1 2 3 4 5]\n"
          ]
        }
      ]
    },
    {
      "cell_type": "markdown",
      "source": [
        "Find the number of occurrences of each value in an array"
      ],
      "metadata": {
        "id": "2Lz1-HPLbldx"
      }
    },
    {
      "cell_type": "code",
      "source": [
        "unique_elements, counts = np.unique(sample_array, return_counts=True)\n",
        "\n",
        "#zip fonksiyonu iki veya daha fazla diziyi gruplamak için kullanılır.\n",
        "for element, count in zip(unique_elements, counts):\n",
        "    print(f\"Value: {element}, Count: {count}\")"
      ],
      "metadata": {
        "colab": {
          "base_uri": "https://localhost:8080/"
        },
        "id": "kFTFO3ZgbZUm",
        "outputId": "807b94d2-39d4-4129-e6f0-a624d282bfab"
      },
      "execution_count": 73,
      "outputs": [
        {
          "output_type": "stream",
          "name": "stdout",
          "text": [
            "Value: 0, Count: 1\n",
            "Value: 1, Count: 2\n",
            "Value: 2, Count: 2\n",
            "Value: 3, Count: 1\n",
            "Value: 4, Count: 3\n",
            "Value: 5, Count: 1\n"
          ]
        }
      ]
    },
    {
      "cell_type": "markdown",
      "source": [
        "Replace the maximum value in a 2D array with 0"
      ],
      "metadata": {
        "id": "YezZSpbCeC3a"
      }
    },
    {
      "cell_type": "code",
      "source": [
        "array_2d = np.array([[1,2],\n",
        "                      [3,4]])\n",
        "max_value = np.max(array_2d)\n",
        "array_2d[array_2d == max_value] = 0\n",
        "print(array_2d)"
      ],
      "metadata": {
        "colab": {
          "base_uri": "https://localhost:8080/"
        },
        "id": "CSxVLb-rb6QG",
        "outputId": "97d6b208-b0e4-4253-97fc-806840028317"
      },
      "execution_count": 80,
      "outputs": [
        {
          "output_type": "stream",
          "name": "stdout",
          "text": [
            "[[1 2]\n",
            " [3 0]]\n"
          ]
        }
      ]
    },
    {
      "cell_type": "markdown",
      "source": [
        " Convert a 1D array to a 2D array with 3 rows"
      ],
      "metadata": {
        "id": "-RsGnxhifOo5"
      }
    },
    {
      "cell_type": "code",
      "source": [
        "array_1d = np.arange(12)\n",
        "array_2d = array_1d.reshape(3, -1)\n",
        "print(array_2d)"
      ],
      "metadata": {
        "colab": {
          "base_uri": "https://localhost:8080/"
        },
        "id": "-KCHd52veNXY",
        "outputId": "01e1a310-3e98-4687-a41b-8dbf78fecfd9"
      },
      "execution_count": 88,
      "outputs": [
        {
          "output_type": "stream",
          "name": "stdout",
          "text": [
            "[[ 0  1  2  3]\n",
            " [ 4  5  6  7]\n",
            " [ 8  9 10 11]]\n"
          ]
        }
      ]
    },
    {
      "cell_type": "markdown",
      "source": [
        " Create a random 4x4 matrix and compute the row-wise and column-wise sums"
      ],
      "metadata": {
        "id": "njkyTKfmgPZi"
      }
    },
    {
      "cell_type": "code",
      "source": [
        "random_matrix_4x4 = np.random.rand(4, 4)\n",
        "print(\"Random 4x4 Matrix:\\n\", random_matrix_4x4)\n",
        "\n",
        "row_sums = np.sum(random_matrix_4x4, axis=1)\n",
        "print(\"\\nRow-wise sums:\", row_sums)\n",
        "\n",
        "column_sums = np.sum(random_matrix_4x4, axis=0)\n",
        "print(\"\\nColumn-wise sums:\", column_sums)"
      ],
      "metadata": {
        "colab": {
          "base_uri": "https://localhost:8080/"
        },
        "id": "VUCeHvU0fl64",
        "outputId": "dead18d5-a49a-4d8d-c97e-ae7f17ba1f9d"
      },
      "execution_count": 94,
      "outputs": [
        {
          "output_type": "stream",
          "name": "stdout",
          "text": [
            "Random 4x4 Matrix:\n",
            " [[0.10056459 0.00207365 0.17733031 0.16534946]\n",
            " [0.30100063 0.45049738 0.09948746 0.41001042]\n",
            " [0.82799713 0.98660658 0.37496985 0.65649829]\n",
            " [0.87062013 0.2541706  0.57232304 0.76262916]]\n",
            "\n",
            "Row-wise sums: [0.44531802 1.26099588 2.84607185 2.45974293]\n",
            "\n",
            "Column-wise sums: [2.10018249 1.69334821 1.22411065 1.99448733]\n"
          ]
        }
      ]
    }
  ]
}