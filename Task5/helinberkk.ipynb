{
 "nbformat": 4,
 "nbformat_minor": 0,
 "metadata": {
  "colab": {
   "provenance": []
  },
  "kernelspec": {
   "name": "python3",
   "display_name": "Python 3 (ipykernel)",
   "language": "python"
  },
  "language_info": {
   "name": "python"
  }
 },
 "cells": [
  {
   "cell_type": "markdown",
   "source": [
    "# Exercise 1: Import Numpy and check the version"
   ],
   "metadata": {
    "id": "ayser2RfAeD9"
   }
  },
  {
   "cell_type": "code",
   "source": [
    "import numpy as np\n",
    "print(np.__version__)"
   ],
   "metadata": {
    "id": "DejYsYE2IdrK",
    "ExecuteTime": {
     "end_time": "2024-10-13T15:21:35.060172Z",
     "start_time": "2024-10-13T15:21:35.056571Z"
    }
   },
   "outputs": [
    {
     "name": "stdout",
     "output_type": "stream",
     "text": [
      "2.1.2\n"
     ]
    }
   ],
   "execution_count": 37
  },
  {
   "cell_type": "markdown",
   "source": [
    "# Exercise 2: Create a Python list than convert convert it to a Numpy array and check its type"
   ],
   "metadata": {
    "id": "Lq2tT0AkAnf6"
   }
  },
  {
   "cell_type": "code",
   "source": [
    "py_list = [1, 2, 3, 4, 5]\n",
    "np_array = np.array(py_list)\n",
    "print(type(np_array))"
   ],
   "metadata": {
    "id": "8hs0wkrTIeQh",
    "ExecuteTime": {
     "end_time": "2024-10-13T15:21:36.981312Z",
     "start_time": "2024-10-13T15:21:36.978021Z"
    }
   },
   "outputs": [
    {
     "name": "stdout",
     "output_type": "stream",
     "text": [
      "<class 'numpy.ndarray'>\n"
     ]
    }
   ],
   "execution_count": 38
  },
  {
   "cell_type": "markdown",
   "source": [
    "# Exercise 3: Create a 1D array of 10 zeros and 10 ones"
   ],
   "metadata": {
    "id": "iYINdAL0A5hD"
   }
  },
  {
   "cell_type": "code",
   "source": [
    "zeros = np.zeros(10)\n",
    "ones = np.ones(10)\n",
    "print(zeros)\n",
    "print(ones)"
   ],
   "metadata": {
    "id": "iRNyAehSIek1",
    "ExecuteTime": {
     "end_time": "2024-10-13T15:21:39.054596Z",
     "start_time": "2024-10-13T15:21:39.051187Z"
    }
   },
   "outputs": [
    {
     "name": "stdout",
     "output_type": "stream",
     "text": [
      "[0. 0. 0. 0. 0. 0. 0. 0. 0. 0.]\n",
      "[1. 1. 1. 1. 1. 1. 1. 1. 1. 1.]\n"
     ]
    }
   ],
   "execution_count": 39
  },
  {
   "cell_type": "markdown",
   "source": [
    "# Exercise 4: Create a 3x3 identity matrix"
   ],
   "metadata": {
    "id": "RmT5xJM-BFnK"
   }
  },
  {
   "cell_type": "code",
   "source": [
    "identity_matrix = np.eye(3)\n",
    "print(identity_matrix)\n"
   ],
   "metadata": {
    "id": "5ZtggrmCIfYL",
    "ExecuteTime": {
     "end_time": "2024-10-13T15:21:41.094161Z",
     "start_time": "2024-10-13T15:21:41.090742Z"
    }
   },
   "outputs": [
    {
     "name": "stdout",
     "output_type": "stream",
     "text": [
      "[[1. 0. 0.]\n",
      " [0. 1. 0.]\n",
      " [0. 0. 1.]]\n"
     ]
    }
   ],
   "execution_count": 40
  },
  {
   "cell_type": "markdown",
   "source": [
    "# Exercise 5: Create an array of numbers from 10 to 50 and reverse it"
   ],
   "metadata": {
    "id": "gWe_pIahBWUG"
   }
  },
  {
   "cell_type": "code",
   "source": [
    "array = np.arange(10, 51)\n",
    "\n",
    "\n",
    "reversed_array = array[::-1]\n",
    "\n",
    "print(reversed_array)"
   ],
   "metadata": {
    "id": "lDmKp_R7Ifld",
    "ExecuteTime": {
     "end_time": "2024-10-13T15:21:42.851872Z",
     "start_time": "2024-10-13T15:21:42.849254Z"
    }
   },
   "outputs": [
    {
     "name": "stdout",
     "output_type": "stream",
     "text": [
      "[50 49 48 47 46 45 44 43 42 41 40 39 38 37 36 35 34 33 32 31 30 29 28 27\n",
      " 26 25 24 23 22 21 20 19 18 17 16 15 14 13 12 11 10]\n"
     ]
    }
   ],
   "execution_count": 41
  },
  {
   "cell_type": "markdown",
   "source": [
    "# Exercise 6: Create a 4x4 matrix with values ranging from 0 to 15"
   ],
   "metadata": {
    "id": "nOjkS6CJBgbu"
   }
  },
  {
   "cell_type": "code",
   "source": [
    "matrix_4x4 = np.arange(16).reshape(4, 4)\n",
    "print(matrix_4x4)"
   ],
   "metadata": {
    "id": "j7WWCpPYIgGK",
    "ExecuteTime": {
     "end_time": "2024-10-13T15:21:44.939889Z",
     "start_time": "2024-10-13T15:21:44.936193Z"
    }
   },
   "outputs": [
    {
     "name": "stdout",
     "output_type": "stream",
     "text": [
      "[[ 0  1  2  3]\n",
      " [ 4  5  6  7]\n",
      " [ 8  9 10 11]\n",
      " [12 13 14 15]]\n"
     ]
    }
   ],
   "execution_count": 42
  },
  {
   "cell_type": "markdown",
   "source": [
    "# Exercise 7: Find the indices of non-zero elements in the array\n"
   ],
   "metadata": {
    "id": "dkpaYEH3BkfQ"
   }
  },
  {
   "cell_type": "code",
   "source": [
    "array_with_zeros = [1, 2, 0, 0, 4, 0]\n",
    "non_zero_indices = np.nonzero(array_with_zeros)\n",
    "print(non_zero_indices)"
   ],
   "metadata": {
    "id": "hKZuDOmFIgSF",
    "ExecuteTime": {
     "end_time": "2024-10-13T15:20:36.330996Z",
     "start_time": "2024-10-13T15:20:36.327528Z"
    }
   },
   "outputs": [
    {
     "name": "stdout",
     "output_type": "stream",
     "text": [
      "(array([0, 1, 4]),)\n"
     ]
    }
   ],
   "execution_count": 28
  },
  {
   "cell_type": "markdown",
   "source": [
    "# Exercise 8: Create a 5x5 matrix with 1 on the border and 0 inside"
   ],
   "metadata": {
    "id": "fzidbfgrBxpE"
   }
  },
  {
   "cell_type": "code",
   "source": [
    "matrix_5x5 = np.ones((5, 5))\n",
    "matrix_5x5[1:-1, 1:-1] = 0\n",
    "print(matrix_5x5)"
   ],
   "metadata": {
    "id": "1xnWU5r0IgpR",
    "ExecuteTime": {
     "end_time": "2024-10-13T15:21:17.944884Z",
     "start_time": "2024-10-13T15:21:17.940875Z"
    }
   },
   "outputs": [
    {
     "name": "stdout",
     "output_type": "stream",
     "text": [
      "[[1. 1. 1. 1. 1.]\n",
      " [1. 0. 0. 0. 1.]\n",
      " [1. 0. 0. 0. 1.]\n",
      " [1. 0. 0. 0. 1.]\n",
      " [1. 1. 1. 1. 1.]]\n"
     ]
    }
   ],
   "execution_count": 32
  },
  {
   "cell_type": "markdown",
   "source": [
    "# Exercise 9: Create a 3x3 matrix with random values between 0 to 10 and find the minimum and maximum values"
   ],
   "metadata": {
    "id": "RvELUIjqB9TX"
   }
  },
  {
   "cell_type": "code",
   "source": [
    "random_matrix = np.random.randint(0, 11, (3, 3))\n",
    "min_val = random_matrix.min()\n",
    "max_val = random_matrix.max()\n",
    "print(random_matrix)\n",
    "print(\"Min:\", min_val)\n",
    "print(\"Max:\", max_val)"
   ],
   "metadata": {
    "id": "mzYRCU9JIho8",
    "ExecuteTime": {
     "end_time": "2024-10-13T15:21:20.540884Z",
     "start_time": "2024-10-13T15:21:20.537164Z"
    }
   },
   "outputs": [
    {
     "name": "stdout",
     "output_type": "stream",
     "text": [
      "[[7 6 6]\n",
      " [7 9 0]\n",
      " [6 6 3]]\n",
      "Min: 0\n",
      "Max: 9\n"
     ]
    }
   ],
   "execution_count": 33
  },
  {
   "cell_type": "markdown",
   "source": [
    "# Exercise 10: Normalize the random matrix from the exercise 9 between 0 and 1"
   ],
   "metadata": {
    "id": "vmt0ZQXaCMLT"
   }
  },
  {
   "cell_type": "code",
   "source": [
    "normalized_matrix = (random_matrix - min_val) / (max_val - min_val)\n",
    "print(normalized_matrix)"
   ],
   "metadata": {
    "id": "Aa7nuLr6Ih2y",
    "ExecuteTime": {
     "end_time": "2024-10-13T15:21:22.265882Z",
     "start_time": "2024-10-13T15:21:22.262725Z"
    }
   },
   "outputs": [
    {
     "name": "stdout",
     "output_type": "stream",
     "text": [
      "[[0.77777778 0.66666667 0.66666667]\n",
      " [0.77777778 1.         0.        ]\n",
      " [0.66666667 0.66666667 0.33333333]]\n"
     ]
    }
   ],
   "execution_count": 34
  },
  {
   "cell_type": "markdown",
   "source": [
    "# Exercise 11: Multiply a 5x3 matrix by a 3x2 matrix (matrix product)"
   ],
   "metadata": {
    "id": "g_URN7uwDIZI"
   }
  },
  {
   "cell_type": "code",
   "source": [
    "matrix_5x3 = np.random.random((5, 3))\n",
    "matrix_3x2 = np.random.random((3, 2))\n",
    "product_matrix = np.dot(matrix_5x3, matrix_3x2)\n",
    "print(product_matrix)"
   ],
   "metadata": {
    "id": "hm-yD1daIigs",
    "ExecuteTime": {
     "end_time": "2024-10-13T15:16:14.293815Z",
     "start_time": "2024-10-13T15:16:14.290876Z"
    }
   },
   "outputs": [
    {
     "name": "stdout",
     "output_type": "stream",
     "text": [
      "[[0.31840525 0.27442911]\n",
      " [1.05597676 1.04618105]\n",
      " [0.86524934 1.09673268]\n",
      " [0.50372455 0.73085224]\n",
      " [0.98325785 1.23624868]]\n"
     ]
    }
   ],
   "execution_count": 12
  },
  {
   "cell_type": "markdown",
   "source": [
    "# Exercise 12: Extract the integer part of a random array"
   ],
   "metadata": {
    "id": "SZToCQ-WDuzm"
   }
  },
  {
   "cell_type": "code",
   "source": [
    "random_array = np.random.random(5) * 10\n",
    "integer_part = np.floor(random_array)\n",
    "print(integer_part)"
   ],
   "metadata": {
    "id": "YSh4DEoZIjFi",
    "ExecuteTime": {
     "end_time": "2024-10-13T15:16:25.521336Z",
     "start_time": "2024-10-13T15:16:25.517977Z"
    }
   },
   "outputs": [
    {
     "name": "stdout",
     "output_type": "stream",
     "text": [
      "[0. 3. 0. 3. 7.]\n"
     ]
    }
   ],
   "execution_count": 13
  },
  {
   "cell_type": "markdown",
   "source": [
    "# Exercise 13: Check if two arrays are equal"
   ],
   "metadata": {
    "id": "qhXk3pMWFGdJ"
   }
  },
  {
   "cell_type": "code",
   "source": [
    "array1 = np.array([1, 2, 3])\n",
    "array2 = np.array([1, 2, 3])\n",
    "are_equal = np.array_equal(array1, array2)\n",
    "print(are_equal)"
   ],
   "metadata": {
    "id": "qfLykJC7IjzZ",
    "ExecuteTime": {
     "end_time": "2024-10-13T15:16:37.815346Z",
     "start_time": "2024-10-13T15:16:37.812254Z"
    }
   },
   "outputs": [
    {
     "name": "stdout",
     "output_type": "stream",
     "text": [
      "True\n"
     ]
    }
   ],
   "execution_count": 14
  },
  {
   "cell_type": "markdown",
   "source": [
    "# Exercise 14: Find the unique elements of an array"
   ],
   "metadata": {
    "id": "MmO1otxtFcaI"
   }
  },
  {
   "cell_type": "code",
   "source": [
    "array_with_duplicates = np.array([1, 2, 2, 3, 3, 3])\n",
    "unique_elements = np.unique(array_with_duplicates)\n",
    "print(unique_elements)\n"
   ],
   "metadata": {
    "id": "yjNOUUEpIkYM",
    "ExecuteTime": {
     "end_time": "2024-10-13T15:16:51.268732Z",
     "start_time": "2024-10-13T15:16:51.265270Z"
    }
   },
   "outputs": [
    {
     "name": "stdout",
     "output_type": "stream",
     "text": [
      "[1 2 3]\n"
     ]
    }
   ],
   "execution_count": 15
  },
  {
   "cell_type": "markdown",
   "source": [
    "# Exercise 15: Find the number of occurrences of each value in an array"
   ],
   "metadata": {
    "id": "F9VGRiJzFi-B"
   }
  },
  {
   "cell_type": "code",
   "source": [
    "occurrences = np.bincount(array_with_duplicates)\n",
    "print(occurrences)"
   ],
   "metadata": {
    "id": "metQCrsaIko3",
    "ExecuteTime": {
     "end_time": "2024-10-13T15:17:05.827099Z",
     "start_time": "2024-10-13T15:17:05.824407Z"
    }
   },
   "outputs": [
    {
     "name": "stdout",
     "output_type": "stream",
     "text": [
      "[0 1 2 3]\n"
     ]
    }
   ],
   "execution_count": 16
  },
  {
   "cell_type": "markdown",
   "source": [
    "# Exercise 16: Replace the maximum value in a 2D array with 0"
   ],
   "metadata": {
    "id": "p8Jb2KExFvHf"
   }
  },
  {
   "cell_type": "code",
   "source": [
    "array_2D = np.random.random((3, 3)) * 10\n",
    "array_2D[array_2D == array_2D.max()] = 0\n",
    "print(array_2D)"
   ],
   "metadata": {
    "id": "h-NZYldjIlli",
    "ExecuteTime": {
     "end_time": "2024-10-13T15:17:18.271690Z",
     "start_time": "2024-10-13T15:17:18.268271Z"
    }
   },
   "outputs": [
    {
     "name": "stdout",
     "output_type": "stream",
     "text": [
      "[[2.72038216 5.51292193 0.63964983]\n",
      " [0.         8.59347304 4.64743328]\n",
      " [0.09617938 8.7518081  8.15271339]]\n"
     ]
    }
   ],
   "execution_count": 17
  },
  {
   "cell_type": "markdown",
   "source": [
    "# Exercise 17: Convert a 1D array to a 2D array with 3 rows"
   ],
   "metadata": {
    "id": "AhFnYordGJ18"
   }
  },
  {
   "cell_type": "code",
   "source": [
    "array_1D = np.arange(9)\n",
    "array_2D = array_1D.reshape(3, 3)\n",
    "print(array_2D)"
   ],
   "metadata": {
    "id": "J8IVXQBiImNl",
    "ExecuteTime": {
     "end_time": "2024-10-13T15:17:30.278487Z",
     "start_time": "2024-10-13T15:17:30.275173Z"
    }
   },
   "outputs": [
    {
     "name": "stdout",
     "output_type": "stream",
     "text": [
      "[[0 1 2]\n",
      " [3 4 5]\n",
      " [6 7 8]]\n"
     ]
    }
   ],
   "execution_count": 18
  },
  {
   "cell_type": "markdown",
   "source": [
    "# Exercise 18: Create a random 4x4 matrix and compute the row-wise and column-wise sums"
   ],
   "metadata": {
    "id": "kLWzisfKGXdD"
   }
  },
  {
   "cell_type": "code",
   "source": [
    "random_matrix_4x4 = np.random.random((4, 4))\n",
    "row_sums = random_matrix_4x4.sum(axis=1)\n",
    "column_sums = random_matrix_4x4.sum(axis=0)\n",
    "print(\"Matrix:\\n\", random_matrix_4x4)\n",
    "print(\"Row sums:\", row_sums)\n",
    "print(\"Column sums:\", column_sums)"
   ],
   "metadata": {
    "id": "M6xaJHJFIm8Q",
    "ExecuteTime": {
     "end_time": "2024-10-13T15:23:13.701674Z",
     "start_time": "2024-10-13T15:23:13.698433Z"
    }
   },
   "outputs": [
    {
     "name": "stdout",
     "output_type": "stream",
     "text": [
      "Matrix:\n",
      " [[0.79676158 0.53971544 0.82163011 0.6835182 ]\n",
      " [0.30012326 0.52663901 0.97817619 0.18555324]\n",
      " [0.9793097  0.42368566 0.09852923 0.94729847]\n",
      " [0.74618747 0.63782178 0.33553155 0.37860457]]\n",
      "Row sums: [2.84162532 1.9904917  2.44882306 2.09814537]\n",
      "Column sums: [2.82238201 2.1278619  2.23386708 2.19497447]\n"
     ]
    }
   ],
   "execution_count": 43
  },
  {
   "metadata": {
    "ExecuteTime": {
     "end_time": "2024-10-13T15:17:47.589311Z",
     "start_time": "2024-10-13T15:17:47.587092Z"
    }
   },
   "cell_type": "code",
   "source": "",
   "outputs": [],
   "execution_count": null
  },
  {
   "metadata": {
    "ExecuteTime": {
     "end_time": "2024-10-13T15:23:29.284990Z",
     "start_time": "2024-10-13T15:23:29.283535Z"
    }
   },
   "cell_type": "code",
   "source": "",
   "outputs": [],
   "execution_count": null
  },
  {
   "metadata": {},
   "cell_type": "code",
   "outputs": [],
   "execution_count": null,
   "source": ""
  }
 ]
}
