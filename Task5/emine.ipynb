{
 "nbformat": 4,
 "nbformat_minor": 0,
 "metadata": {
  "colab": {
   "provenance": []
  },
  "kernelspec": {
   "name": "python3",
   "display_name": "Python 3 (ipykernel)",
   "language": "python"
  },
  "language_info": {
   "name": "python"
  }
 },
 "cells": [
  {
   "cell_type": "markdown",
   "source": [
    "# Exercise 1: Import Numpy and check the version"
   ],
   "metadata": {
    "id": "ayser2RfAeD9"
   }
  },
  {
   "cell_type": "code",
   "source": [
    "import numpy as np\n",
    "print(np.__version__)"
   ],
   "metadata": {
    "id": "DejYsYE2IdrK",
    "jupyter": {
     "is_executing": true
    }
   },
   "outputs": [],
   "execution_count": null
  },
  {
   "cell_type": "markdown",
   "source": [
    "# Exercise 2: Create a Python list than convert convert it to a Numpy array and check its type"
   ],
   "metadata": {
    "id": "Lq2tT0AkAnf6"
   }
  },
  {
   "cell_type": "code",
   "source": [
    "py_list = [1, 2, 3, 4, 5]\n",
    "np_array = np.array(py_list)\n",
    "print(type(np_array))"
   ],
   "metadata": {
    "id": "8hs0wkrTIeQh",
    "ExecuteTime": {
     "end_time": "2024-10-13T21:27:49.719029Z",
     "start_time": "2024-10-13T21:27:49.601193Z"
    }
   },
   "outputs": [
    {
     "ename": "NameError",
     "evalue": "name 'np' is not defined",
     "output_type": "error",
     "traceback": [
      "\u001B[0;31m---------------------------------------------------------------------------\u001B[0m",
      "\u001B[0;31mNameError\u001B[0m                                 Traceback (most recent call last)",
      "Cell \u001B[0;32mIn[1], line 2\u001B[0m\n\u001B[1;32m      1\u001B[0m py_list \u001B[38;5;241m=\u001B[39m [\u001B[38;5;241m1\u001B[39m, \u001B[38;5;241m2\u001B[39m, \u001B[38;5;241m3\u001B[39m, \u001B[38;5;241m4\u001B[39m, \u001B[38;5;241m5\u001B[39m]\n\u001B[0;32m----> 2\u001B[0m np_array \u001B[38;5;241m=\u001B[39m \u001B[43mnp\u001B[49m\u001B[38;5;241m.\u001B[39marray(py_list)\n\u001B[1;32m      3\u001B[0m \u001B[38;5;28mprint\u001B[39m(\u001B[38;5;28mtype\u001B[39m(np_array))\n",
      "\u001B[0;31mNameError\u001B[0m: name 'np' is not defined"
     ]
    }
   ],
   "execution_count": 1
  },
  {
   "cell_type": "markdown",
   "source": [
    "# Exercise 3: Create a 1D array of 10 zeros and 10 ones"
   ],
   "metadata": {
    "id": "iYINdAL0A5hD"
   }
  },
  {
   "cell_type": "code",
   "source": [
    "zeros_array = np.zeros(10)\n",
    "ones_array = np.ones(10)\n",
    "print(zeros_array)\n",
    "print(ones_array)"
   ],
   "metadata": {
    "id": "iRNyAehSIek1"
   },
   "execution_count": null,
   "outputs": []
  },
  {
   "cell_type": "markdown",
   "source": [
    "# Exercise 4: Create a 3x3 identity matrix"
   ],
   "metadata": {
    "id": "RmT5xJM-BFnK"
   }
  },
  {
   "cell_type": "code",
   "source": [
    "identity_matrix = np.eye(3)\n",
    "print(identity_matrix)"
   ],
   "metadata": {
    "id": "5ZtggrmCIfYL"
   },
   "execution_count": null,
   "outputs": []
  },
  {
   "cell_type": "markdown",
   "source": [
    "# Exercise 5: Create an array of numbers from 10 to 50 and reverse it"
   ],
   "metadata": {
    "id": "gWe_pIahBWUG"
   }
  },
  {
   "cell_type": "code",
   "source": [
    "array_10_to_50 = np.arange(10, 51)\n",
    "reversed_array = array_10_to_50[::-1]\n",
    "print(reversed_array)"
   ],
   "metadata": {
    "id": "lDmKp_R7Ifld"
   },
   "execution_count": null,
   "outputs": []
  },
  {
   "cell_type": "markdown",
   "source": [
    "# Exercise 6: Create a 4x4 matrix with values ranging from 0 to 15"
   ],
   "metadata": {
    "id": "nOjkS6CJBgbu"
   }
  },
  {
   "cell_type": "code",
   "source": [
    "matrix_0_to_15 = np.arange(16).reshape(4, 4)\n",
    "print(matrix_0_to_15)"
   ],
   "metadata": {
    "id": "j7WWCpPYIgGK"
   },
   "execution_count": null,
   "outputs": []
  },
  {
   "cell_type": "markdown",
   "source": [
    "# Exercise 7: Find the indices of non-zero elements in the array\n"
   ],
   "metadata": {
    "id": "dkpaYEH3BkfQ"
   }
  },
  {
   "cell_type": "code",
   "source": [
    "sample_array = np.array([0, 1, 2, 0, 4, 0, 5])\n",
    "non_zero_indices = np.nonzero(sample_array)\n",
    "print(non_zero_indices)"
   ],
   "metadata": {
    "id": "hKZuDOmFIgSF"
   },
   "execution_count": null,
   "outputs": []
  },
  {
   "cell_type": "markdown",
   "source": [
    "# Exercise 8: Create a 5x5 matrix with 1 on the border and 0 inside"
   ],
   "metadata": {
    "id": "fzidbfgrBxpE"
   }
  },
  {
   "cell_type": "code",
   "source": [
    "border_matrix = np.ones((5, 5))\n",
    "border_matrix[1:-1, 1:-1] = 0\n",
    "print(border_matrix)"
   ],
   "metadata": {
    "id": "1xnWU5r0IgpR"
   },
   "execution_count": null,
   "outputs": []
  },
  {
   "cell_type": "markdown",
   "source": [
    "# Exercise 9: Create a 3x3 matrix with random values between 0 to 10 and find the minimum and maximum values"
   ],
   "metadata": {
    "id": "RvELUIjqB9TX"
   }
  },
  {
   "cell_type": "code",
   "source": [
    "random_matrix = np.random.randint(0, 11, size=(3, 3))\n",
    "print(random_matrix)\n",
    "print(random_matrix.min(), random_matrix.max())"
   ],
   "metadata": {
    "id": "mzYRCU9JIho8"
   },
   "execution_count": null,
   "outputs": []
  },
  {
   "cell_type": "markdown",
   "source": [
    "# Exercise 10: Normalize the random matrix from the exercise 9 between 0 and 1"
   ],
   "metadata": {
    "id": "vmt0ZQXaCMLT"
   }
  },
  {
   "cell_type": "code",
   "source": [
    "normalized_matrix = (random_matrix - random_matrix.min()) / (random_matrix.max() - random_matrix.min())\n",
    "print(normalized_matrix)"
   ],
   "metadata": {
    "id": "Aa7nuLr6Ih2y"
   },
   "execution_count": null,
   "outputs": []
  },
  {
   "cell_type": "markdown",
   "source": [
    "# Exercise 11: Multiply a 5x3 matrix by a 3x2 matrix (matrix product)"
   ],
   "metadata": {
    "id": "g_URN7uwDIZI"
   }
  },
  {
   "cell_type": "code",
   "source": [
    "matrix_5x3 = np.random.random((5, 3))\n",
    "matrix_3x2 = np.random.random((3, 2))\n",
    "matrix_product = np.dot(matrix_5x3, matrix_3x2)\n",
    "print(matrix_product)"
   ],
   "metadata": {
    "id": "hm-yD1daIigs"
   },
   "execution_count": null,
   "outputs": []
  },
  {
   "cell_type": "markdown",
   "source": [
    "# Exercise 12: Extract the integer part of a random array"
   ],
   "metadata": {
    "id": "SZToCQ-WDuzm"
   }
  },
  {
   "cell_type": "code",
   "source": [
    "random_array = np.random.random(5) * 10\n",
    "integer_part = np.floor(random_array)\n",
    "print(integer_part)"
   ],
   "metadata": {
    "id": "YSh4DEoZIjFi"
   },
   "execution_count": null,
   "outputs": []
  },
  {
   "cell_type": "markdown",
   "source": [
    "# Exercise 13: Check if two arrays are equal"
   ],
   "metadata": {
    "id": "qhXk3pMWFGdJ"
   }
  },
  {
   "cell_type": "code",
   "source": [
    "array1 = np.array([1, 2, 3])\n",
    "array2 = np.array([1, 2, 3])\n",
    "arrays_equal = np.array_equal(array1, array2)\n",
    "print(arrays_equal)"
   ],
   "metadata": {
    "id": "qfLykJC7IjzZ"
   },
   "execution_count": null,
   "outputs": []
  },
  {
   "cell_type": "markdown",
   "source": [
    "# Exercise 14: Find the unique elements of an array"
   ],
   "metadata": {
    "id": "MmO1otxtFcaI"
   }
  },
  {
   "cell_type": "code",
   "source": [
    "array_with_duplicates = np.array([1, 2, 2, 3, 4, 4, 5])\n",
    "unique_elements = np.unique(array_with_duplicates)\n",
    "print(unique_elements)\n"
   ],
   "metadata": {
    "id": "yjNOUUEpIkYM"
   },
   "execution_count": null,
   "outputs": []
  },
  {
   "cell_type": "markdown",
   "source": [
    "# Exercise 15: Find the number of occurrences of each value in an array"
   ],
   "metadata": {
    "id": "F9VGRiJzFi-B"
   }
  },
  {
   "cell_type": "code",
   "source": [
    "occurrences = np.bincount(array_with_duplicates)\n",
    "print(occurrences)"
   ],
   "metadata": {
    "id": "metQCrsaIko3"
   },
   "execution_count": null,
   "outputs": []
  },
  {
   "cell_type": "markdown",
   "source": [
    "# Exercise 16: Replace the maximum value in a 2D array with 0"
   ],
   "metadata": {
    "id": "p8Jb2KExFvHf"
   }
  },
  {
   "cell_type": "code",
   "source": [
    "matrix_2d = np.random.random((3, 3)) * 10\n",
    "matrix_2d[matrix_2d == matrix_2d.max()] = 0\n",
    "print(matrix_2d)"
   ],
   "metadata": {
    "id": "h-NZYldjIlli"
   },
   "execution_count": null,
   "outputs": []
  },
  {
   "cell_type": "markdown",
   "source": [
    "# Exercise 17: Convert a 1D array to a 2D array with 3 rows"
   ],
   "metadata": {
    "id": "AhFnYordGJ18"
   }
  },
  {
   "cell_type": "code",
   "source": [
    "array_1d = np.arange(9)\n",
    "array_2d = array_1d.reshape(3, 3)\n",
    "print(array_2d)"
   ],
   "metadata": {
    "id": "J8IVXQBiImNl"
   },
   "execution_count": null,
   "outputs": []
  },
  {
   "cell_type": "markdown",
   "source": [
    "# Exercise 18: Create a random 4x4 matrix and compute the row-wise and column-wise sums"
   ],
   "metadata": {
    "id": "kLWzisfKGXdD"
   }
  },
  {
   "cell_type": "code",
   "source": [
    "matrix_4x4 = np.random.random((4, 4))\n",
    "row_sums = matrix_4x4.sum(axis=1)\n",
    "column_sums = matrix_4x4.sum(axis=0)\n",
    "print(\"Row sums:\", row_sums)\n",
    "print(\"Column sums:\", column_sums)"
   ],
   "metadata": {
    "id": "M6xaJHJFIm8Q",
    "jupyter": {
     "is_executing": true
    }
   },
   "outputs": [],
   "execution_count": null
  }
 ]
}
