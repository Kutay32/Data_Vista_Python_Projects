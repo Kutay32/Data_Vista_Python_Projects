{
  "nbformat": 4,
  "nbformat_minor": 0,
  "metadata": {
    "colab": {
      "provenance": []
    },
    "kernelspec": {
      "name": "python3",
      "display_name": "Python 3"
    },
    "language_info": {
      "name": "python"
    }
  },
  "cells": [
    {
      "cell_type": "markdown",
      "source": [
        "# Exercise 1: Import Numpy and check the version"
      ],
      "metadata": {
        "id": "ayser2RfAeD9"
      }
    },
    {
      "cell_type": "code",
      "source": [],
      "metadata": {
        "id": "DejYsYE2IdrK"
      },
      "execution_count": null,
      "outputs": []
    },
    {
      "cell_type": "markdown",
      "source": [
        "# Exercise 2: Create a Python list than convert convert it to a Numpy array and check its type"
      ],
      "metadata": {
        "id": "Lq2tT0AkAnf6"
      }
    },
    {
      "cell_type": "code",
      "source": [],
      "metadata": {
        "id": "8hs0wkrTIeQh"
      },
      "execution_count": null,
      "outputs": []
    },
    {
      "cell_type": "markdown",
      "source": [
        "# Exercise 3: Create a 1D array of 10 zeros and 10 ones"
      ],
      "metadata": {
        "id": "iYINdAL0A5hD"
      }
    },
    {
      "cell_type": "code",
      "source": [],
      "metadata": {
        "id": "iRNyAehSIek1"
      },
      "execution_count": null,
      "outputs": []
    },
    {
      "cell_type": "markdown",
      "source": [
        "# Exercise 4: Create a 3x3 identity matrix"
      ],
      "metadata": {
        "id": "RmT5xJM-BFnK"
      }
    },
    {
      "cell_type": "code",
      "source": [],
      "metadata": {
        "id": "5ZtggrmCIfYL"
      },
      "execution_count": null,
      "outputs": []
    },
    {
      "cell_type": "markdown",
      "source": [
        "# Exercise 5: Create an array of numbers from 10 to 50 and reverse it"
      ],
      "metadata": {
        "id": "gWe_pIahBWUG"
      }
    },
    {
      "cell_type": "code",
      "source": [],
      "metadata": {
        "id": "lDmKp_R7Ifld"
      },
      "execution_count": null,
      "outputs": []
    },
    {
      "cell_type": "markdown",
      "source": [
        "# Exercise 6: Create a 4x4 matrix with values ranging from 0 to 15"
      ],
      "metadata": {
        "id": "nOjkS6CJBgbu"
      }
    },
    {
      "cell_type": "code",
      "source": [],
      "metadata": {
        "id": "j7WWCpPYIgGK"
      },
      "execution_count": null,
      "outputs": []
    },
    {
      "cell_type": "markdown",
      "source": [
        "# Exercise 7: Find the indices of non-zero elements in the array\n"
      ],
      "metadata": {
        "id": "dkpaYEH3BkfQ"
      }
    },
    {
      "cell_type": "code",
      "source": [],
      "metadata": {
        "id": "hKZuDOmFIgSF"
      },
      "execution_count": null,
      "outputs": []
    },
    {
      "cell_type": "markdown",
      "source": [
        "# Exercise 8: Create a 5x5 matrix with 1 on the border and 0 inside"
      ],
      "metadata": {
        "id": "fzidbfgrBxpE"
      }
    },
    {
      "cell_type": "code",
      "source": [],
      "metadata": {
        "id": "1xnWU5r0IgpR"
      },
      "execution_count": null,
      "outputs": []
    },
    {
      "cell_type": "markdown",
      "source": [
        "# Exercise 9: Create a 3x3 matrix with random values between 0 to 10 and find the minimum and maximum values"
      ],
      "metadata": {
        "id": "RvELUIjqB9TX"
      }
    },
    {
      "cell_type": "code",
      "source": [],
      "metadata": {
        "id": "mzYRCU9JIho8"
      },
      "execution_count": null,
      "outputs": []
    },
    {
      "cell_type": "markdown",
      "source": [
        "# Exercise 10: Normalize the random matrix from the exercise 9 between 0 and 1"
      ],
      "metadata": {
        "id": "vmt0ZQXaCMLT"
      }
    },
    {
      "cell_type": "code",
      "source": [],
      "metadata": {
        "id": "Aa7nuLr6Ih2y"
      },
      "execution_count": null,
      "outputs": []
    },
    {
      "cell_type": "markdown",
      "source": [
        "# Exercise 11: Multiply a 5x3 matrix by a 3x2 matrix (matrix product)"
      ],
      "metadata": {
        "id": "g_URN7uwDIZI"
      }
    },
    {
      "cell_type": "code",
      "source": [],
      "metadata": {
        "id": "hm-yD1daIigs"
      },
      "execution_count": null,
      "outputs": []
    },
    {
      "cell_type": "markdown",
      "source": [
        "# Exercise 12: Extract the integer part of a random array"
      ],
      "metadata": {
        "id": "SZToCQ-WDuzm"
      }
    },
    {
      "cell_type": "code",
      "source": [],
      "metadata": {
        "id": "YSh4DEoZIjFi"
      },
      "execution_count": null,
      "outputs": []
    },
    {
      "cell_type": "markdown",
      "source": [
        "# Exercise 13: Check if two arrays are equal"
      ],
      "metadata": {
        "id": "qhXk3pMWFGdJ"
      }
    },
    {
      "cell_type": "code",
      "source": [],
      "metadata": {
        "id": "qfLykJC7IjzZ"
      },
      "execution_count": null,
      "outputs": []
    },
    {
      "cell_type": "markdown",
      "source": [
        "# Exercise 14: Find the unique elements of an array"
      ],
      "metadata": {
        "id": "MmO1otxtFcaI"
      }
    },
    {
      "cell_type": "code",
      "source": [],
      "metadata": {
        "id": "yjNOUUEpIkYM"
      },
      "execution_count": null,
      "outputs": []
    },
    {
      "cell_type": "markdown",
      "source": [
        "# Exercise 15: Find the number of occurrences of each value in an array"
      ],
      "metadata": {
        "id": "F9VGRiJzFi-B"
      }
    },
    {
      "cell_type": "code",
      "source": [],
      "metadata": {
        "id": "metQCrsaIko3"
      },
      "execution_count": null,
      "outputs": []
    },
    {
      "cell_type": "markdown",
      "source": [
        "# Exercise 16: Replace the maximum value in a 2D array with 0"
      ],
      "metadata": {
        "id": "p8Jb2KExFvHf"
      }
    },
    {
      "cell_type": "code",
      "source": [],
      "metadata": {
        "id": "h-NZYldjIlli"
      },
      "execution_count": null,
      "outputs": []
    },
    {
      "cell_type": "markdown",
      "source": [
        "# Exercise 17: Convert a 1D array to a 2D array with 3 rows"
      ],
      "metadata": {
        "id": "AhFnYordGJ18"
      }
    },
    {
      "cell_type": "code",
      "source": [],
      "metadata": {
        "id": "J8IVXQBiImNl"
      },
      "execution_count": null,
      "outputs": []
    },
    {
      "cell_type": "markdown",
      "source": [
        "# Exercise 18: Create a random 4x4 matrix and compute the row-wise and column-wise sums"
      ],
      "metadata": {
        "id": "kLWzisfKGXdD"
      }
    },
    {
      "cell_type": "code",
      "source": [],
      "metadata": {
        "id": "M6xaJHJFIm8Q"
      },
      "execution_count": null,
      "outputs": []
    }
  ]
}