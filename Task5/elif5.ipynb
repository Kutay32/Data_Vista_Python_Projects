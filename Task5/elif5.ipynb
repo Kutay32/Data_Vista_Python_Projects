{
 "nbformat": 4,
 "nbformat_minor": 0,
 "metadata": {
  "colab": {
   "provenance": []
  },
  "kernelspec": {
   "name": "python3",
   "display_name": "Python 3 (ipykernel)",
   "language": "python"
  },
  "language_info": {
   "name": "python"
  }
 },
 "cells": [
  {
   "cell_type": "markdown",
   "source": [
    "# Exercise 1: Import Numpy and check the version"
   ],
   "metadata": {
    "id": "ayser2RfAeD9"
   }
  },
  {
   "cell_type": "code",
   "source": [
    "import numpy as np\n",
    "numpy_version = np.__version__\n"
   ],
   "metadata": {
    "id": "DejYsYE2IdrK",
    "ExecuteTime": {
     "end_time": "2024-10-14T17:02:26.306190Z",
     "start_time": "2024-10-14T17:02:26.136589Z"
    }
   },
   "outputs": [],
   "execution_count": 1
  },
  {
   "cell_type": "markdown",
   "source": [
    "# Exercise 2: Create a Python list than convert convert it to a Numpy array and check its type"
   ],
   "metadata": {
    "id": "Lq2tT0AkAnf6"
   }
  },
  {
   "cell_type": "code",
   "source": [
    "python_list = [1, 2, 3, 4, 5]\n",
    "numpy_array = np.array(python_list)\n",
    "array_type = type(numpy_array)"
   ],
   "metadata": {
    "id": "8hs0wkrTIeQh",
    "ExecuteTime": {
     "end_time": "2024-10-14T17:02:42.561393Z",
     "start_time": "2024-10-14T17:02:42.552184Z"
    }
   },
   "outputs": [],
   "execution_count": 2
  },
  {
   "cell_type": "markdown",
   "source": [
    "# Exercise 3: Create a 1D array of 10 zeros and 10 ones"
   ],
   "metadata": {
    "id": "iYINdAL0A5hD"
   }
  },
  {
   "cell_type": "code",
   "source": [
    "zeros_array = np.zeros(10)\n",
    "ones_array = np.ones(10)\n",
    "combined_array = np.concatenate((zeros_array, ones_array))"
   ],
   "metadata": {
    "id": "iRNyAehSIek1",
    "ExecuteTime": {
     "end_time": "2024-10-14T17:03:01.029123Z",
     "start_time": "2024-10-14T17:03:01.018046Z"
    }
   },
   "outputs": [],
   "execution_count": 3
  },
  {
   "cell_type": "markdown",
   "source": [
    "# Exercise 4: Create a 3x3 identity matrix"
   ],
   "metadata": {
    "id": "RmT5xJM-BFnK"
   }
  },
  {
   "cell_type": "code",
   "source": "identity_matrix = np.eye(3)",
   "metadata": {
    "id": "5ZtggrmCIfYL",
    "ExecuteTime": {
     "end_time": "2024-10-14T17:03:11.531807Z",
     "start_time": "2024-10-14T17:03:11.524486Z"
    }
   },
   "outputs": [],
   "execution_count": 4
  },
  {
   "cell_type": "markdown",
   "source": [
    "# Exercise 5: Create an array of numbers from 10 to 50 and reverse it"
   ],
   "metadata": {
    "id": "gWe_pIahBWUG"
   }
  },
  {
   "cell_type": "code",
   "source": [
    "array_10_to_50 = np.arange(10, 51)\n",
    "reversed_array = array_10_to_50[::-1]"
   ],
   "metadata": {
    "id": "lDmKp_R7Ifld",
    "ExecuteTime": {
     "end_time": "2024-10-14T17:03:31.227063Z",
     "start_time": "2024-10-14T17:03:31.217955Z"
    }
   },
   "outputs": [],
   "execution_count": 5
  },
  {
   "cell_type": "markdown",
   "source": [
    "# Exercise 6: Create a 4x4 matrix with values ranging from 0 to 15"
   ],
   "metadata": {
    "id": "nOjkS6CJBgbu"
   }
  },
  {
   "cell_type": "code",
   "source": "matrix_4x4 = np.arange(16).reshape(4, 4)",
   "metadata": {
    "id": "j7WWCpPYIgGK",
    "ExecuteTime": {
     "end_time": "2024-10-14T17:03:54.454673Z",
     "start_time": "2024-10-14T17:03:54.444752Z"
    }
   },
   "outputs": [],
   "execution_count": 6
  },
  {
   "cell_type": "markdown",
   "source": [
    "# Exercise 7: Find the indices of non-zero elements in the array\n"
   ],
   "metadata": {
    "id": "dkpaYEH3BkfQ"
   }
  },
  {
   "cell_type": "code",
   "source": [
    "array_with_zeros = np.array([1, 2, 0, 0, 4, 0, 5])\n",
    "non_zero_indices = np.nonzero(array_with_zeros)"
   ],
   "metadata": {
    "id": "hKZuDOmFIgSF",
    "ExecuteTime": {
     "end_time": "2024-10-14T17:04:05.713421Z",
     "start_time": "2024-10-14T17:04:05.700273Z"
    }
   },
   "outputs": [],
   "execution_count": 7
  },
  {
   "cell_type": "markdown",
   "source": [
    "# Exercise 8: Create a 5x5 matrix with 1 on the border and 0 inside"
   ],
   "metadata": {
    "id": "fzidbfgrBxpE"
   }
  },
  {
   "cell_type": "code",
   "source": [
    "border_matrix = np.ones((5, 5))\n",
    "border_matrix[1:-1, 1:-1] = 0\n"
   ],
   "metadata": {
    "id": "1xnWU5r0IgpR",
    "ExecuteTime": {
     "end_time": "2024-10-14T17:04:17.739131Z",
     "start_time": "2024-10-14T17:04:17.732055Z"
    }
   },
   "outputs": [],
   "execution_count": 8
  },
  {
   "cell_type": "markdown",
   "source": [
    "# Exercise 9: Create a 3x3 matrix with random values between 0 to 10 and find the minimum and maximum values"
   ],
   "metadata": {
    "id": "RvELUIjqB9TX"
   }
  },
  {
   "cell_type": "code",
   "source": [
    "random_matrix = np.random.randint(0, 10, (3, 3))\n",
    "min_value = np.min(random_matrix)\n",
    "max_value = np.max(random_matrix)\n"
   ],
   "metadata": {
    "id": "mzYRCU9JIho8",
    "ExecuteTime": {
     "end_time": "2024-10-14T17:04:29.625193Z",
     "start_time": "2024-10-14T17:04:29.487200Z"
    }
   },
   "outputs": [],
   "execution_count": 9
  },
  {
   "cell_type": "markdown",
   "source": [
    "# Exercise 10: Normalize the random matrix from the exercise 9 between 0 and 1"
   ],
   "metadata": {
    "id": "vmt0ZQXaCMLT"
   }
  },
  {
   "cell_type": "code",
   "source": "normalized_matrix = (random_matrix - min_value) / (max_value - min_value)",
   "metadata": {
    "id": "Aa7nuLr6Ih2y",
    "ExecuteTime": {
     "end_time": "2024-10-14T17:04:47.574281Z",
     "start_time": "2024-10-14T17:04:47.562236Z"
    }
   },
   "outputs": [],
   "execution_count": 10
  },
  {
   "cell_type": "markdown",
   "source": [
    "# Exercise 11: Multiply a 5x3 matrix by a 3x2 matrix (matrix product)"
   ],
   "metadata": {
    "id": "g_URN7uwDIZI"
   }
  },
  {
   "cell_type": "code",
   "source": [
    "matrix_5x3 = np.random.rand(5, 3)\n",
    "matrix_3x2 = np.random.rand(3, 2)\n",
    "matrix_product = np.dot(matrix_5x3, matrix_3x2)\n"
   ],
   "metadata": {
    "id": "hm-yD1daIigs",
    "ExecuteTime": {
     "end_time": "2024-10-14T17:05:03.447526Z",
     "start_time": "2024-10-14T17:05:03.430030Z"
    }
   },
   "outputs": [],
   "execution_count": 11
  },
  {
   "cell_type": "markdown",
   "source": [
    "# Exercise 12: Extract the integer part of a random array"
   ],
   "metadata": {
    "id": "SZToCQ-WDuzm"
   }
  },
  {
   "cell_type": "code",
   "source": [
    "random_float_array = np.random.rand(5) * 10\n",
    "integer_part = np.floor(random_float_array)"
   ],
   "metadata": {
    "id": "YSh4DEoZIjFi",
    "ExecuteTime": {
     "end_time": "2024-10-14T17:05:22.427585Z",
     "start_time": "2024-10-14T17:05:22.412277Z"
    }
   },
   "outputs": [],
   "execution_count": 12
  },
  {
   "cell_type": "markdown",
   "source": [
    "# Exercise 13: Check if two arrays are equal"
   ],
   "metadata": {
    "id": "qhXk3pMWFGdJ"
   }
  },
  {
   "cell_type": "code",
   "source": [
    "array1 = np.array([1, 2, 3])\n",
    "array2 = np.array([1, 2, 3])\n",
    "arrays_equal = np.array_equal(array1, array2)\n"
   ],
   "metadata": {
    "id": "qfLykJC7IjzZ",
    "ExecuteTime": {
     "end_time": "2024-10-14T17:05:34.965448Z",
     "start_time": "2024-10-14T17:05:34.955034Z"
    }
   },
   "outputs": [],
   "execution_count": 13
  },
  {
   "cell_type": "markdown",
   "source": [
    "# Exercise 14: Find the unique elements of an array"
   ],
   "metadata": {
    "id": "MmO1otxtFcaI"
   }
  },
  {
   "cell_type": "code",
   "source": [
    "array_with_duplicates = np.array([1, 2, 2, 3, 4, 4, 5])\n",
    "unique_elements = np.unique(array_with_duplicates)"
   ],
   "metadata": {
    "id": "yjNOUUEpIkYM",
    "ExecuteTime": {
     "end_time": "2024-10-14T17:05:45.495509Z",
     "start_time": "2024-10-14T17:05:45.483972Z"
    }
   },
   "outputs": [],
   "execution_count": 14
  },
  {
   "cell_type": "markdown",
   "source": [
    "# Exercise 15: Find the number of occurrences of each value in an array"
   ],
   "metadata": {
    "id": "F9VGRiJzFi-B"
   }
  },
  {
   "cell_type": "code",
   "source": "occurrences = np.bincount(array_with_duplicates)",
   "metadata": {
    "id": "metQCrsaIko3"
   },
   "execution_count": null,
   "outputs": []
  },
  {
   "cell_type": "markdown",
   "source": [
    "# Exercise 16: Replace the maximum value in a 2D array with 0"
   ],
   "metadata": {
    "id": "p8Jb2KExFvHf"
   }
  },
  {
   "cell_type": "code",
   "source": [
    "array_2d = np.random.rand(4, 4)\n",
    "array_2d[array_2d == np.max(array_2d)] = 0\n"
   ],
   "metadata": {
    "id": "h-NZYldjIlli"
   },
   "execution_count": null,
   "outputs": []
  },
  {
   "cell_type": "markdown",
   "source": [
    "# Exercise 17: Convert a 1D array to a 2D array with 3 rows"
   ],
   "metadata": {
    "id": "AhFnYordGJ18"
   }
  },
  {
   "cell_type": "code",
   "source": [
    "array_1d = np.arange(9)\n",
    "array_2d = array_1d.reshape(3, 3)\n"
   ],
   "metadata": {
    "id": "J8IVXQBiImNl",
    "ExecuteTime": {
     "end_time": "2024-10-14T17:06:33.183249Z",
     "start_time": "2024-10-14T17:06:33.155672Z"
    }
   },
   "outputs": [],
   "execution_count": 16
  },
  {
   "cell_type": "markdown",
   "source": [
    "# Exercise 18: Create a random 4x4 matrix and compute the row-wise and column-wise sums"
   ],
   "metadata": {
    "id": "kLWzisfKGXdD"
   }
  },
  {
   "cell_type": "code",
   "source": [
    "random_4x4 = np.random.rand(4, 4)\n",
    "row_sums = np.sum(random_4x4, axis=1)\n",
    "column_sums = np.sum(random_4x4, axis=0)\n"
   ],
   "metadata": {
    "id": "M6xaJHJFIm8Q",
    "ExecuteTime": {
     "end_time": "2024-10-14T17:06:29.065183Z",
     "start_time": "2024-10-14T17:06:29.049286Z"
    }
   },
   "outputs": [],
   "execution_count": 15
  },
  {
   "metadata": {},
   "cell_type": "code",
   "outputs": [],
   "execution_count": null,
   "source": ""
  }
 ]
}
